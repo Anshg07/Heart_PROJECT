{
 "cells": [
  {
   "cell_type": "code",
   "execution_count": 1,
   "id": "427aa4f2",
   "metadata": {},
   "outputs": [],
   "source": [
    "import numpy as np\n",
    "import pandas as pd\n",
    "import matplotlib.pyplot as plt\n",
    "from matplotlib import rcParams\n",
    "from matplotlib.cm import rainbow\n",
    "# %matplotlib inline\n",
    "import warnings\n",
    "warnings.filterwarnings('ignore')"
   ]
  },
  {
   "cell_type": "code",
   "execution_count": 2,
   "id": "80a13baa",
   "metadata": {},
   "outputs": [],
   "source": [
    "from sklearn.neighbors import KNeighborsClassifier\n",
    "from sklearn.tree import DecisionTreeClassifier\n",
    "from sklearn.ensemble import RandomForestClassifier"
   ]
  },
  {
   "attachments": {},
   "cell_type": "markdown",
   "id": "8dc9b95a",
   "metadata": {},
   "source": [
    "cp-constrictive pericarditis\n",
    "tresrtbps- resting blood pressure \n",
    "chol-cholestrol\n",
    "fbs- fasting blood sugar \n",
    "restecg- Resting electrocardiographic measurement\n",
    "thalach-maximum heart rate\n",
    "exang-exercise induced angina\n",
    "oldpeak- ST depression induced by exercise relative to rest\n",
    "slope-ST/heart rate slope\n",
    "ca - Coronary Artery Disease\n",
    "thal- thalassemia\n",
    "target-Heart Failure"
   ]
  },
  {
   "cell_type": "code",
   "execution_count": 3,
   "id": "0bb7cfef",
   "metadata": {},
   "outputs": [],
   "source": [
    "data = pd.read_csv('dataset.csv')"
   ]
  },
  {
   "cell_type": "markdown",
   "id": "fd7fdedb",
   "metadata": {},
   "source": [
    "taking care of missing value"
   ]
  },
  {
   "cell_type": "code",
   "execution_count": 4,
   "id": "83aa7296",
   "metadata": {},
   "outputs": [
    {
     "data": {
      "text/plain": [
       "age         0\n",
       "sex         0\n",
       "cp          0\n",
       "trestbps    0\n",
       "chol        0\n",
       "fbs         0\n",
       "restecg     0\n",
       "thalach     0\n",
       "exang       0\n",
       "oldpeak     0\n",
       "slope       0\n",
       "ca          0\n",
       "thal        0\n",
       "target      0\n",
       "dtype: int64"
      ]
     },
     "execution_count": 4,
     "metadata": {},
     "output_type": "execute_result"
    }
   ],
   "source": [
    "data.isnull().sum()"
   ]
  },
  {
   "cell_type": "markdown",
   "id": "696af479",
   "metadata": {},
   "source": [
    "for duplicate values"
   ]
  },
  {
   "cell_type": "code",
   "execution_count": 5,
   "id": "c7a021bf",
   "metadata": {},
   "outputs": [],
   "source": [
    "data_dup = data.duplicated().any()"
   ]
  },
  {
   "cell_type": "code",
   "execution_count": 6,
   "id": "ee7fd13c",
   "metadata": {},
   "outputs": [
    {
     "data": {
      "text/plain": [
       "True"
      ]
     },
     "execution_count": 6,
     "metadata": {},
     "output_type": "execute_result"
    }
   ],
   "source": [
    "data_dup"
   ]
  },
  {
   "cell_type": "code",
   "execution_count": 7,
   "id": "fad43681",
   "metadata": {},
   "outputs": [],
   "source": [
    "data = data.drop_duplicates()"
   ]
  },
  {
   "cell_type": "code",
   "execution_count": 8,
   "id": "e218f34a",
   "metadata": {},
   "outputs": [],
   "source": [
    "data_dup = data.duplicated().any()"
   ]
  },
  {
   "cell_type": "code",
   "execution_count": 9,
   "id": "b085f64a",
   "metadata": {},
   "outputs": [
    {
     "data": {
      "text/plain": [
       "False"
      ]
     },
     "execution_count": 9,
     "metadata": {},
     "output_type": "execute_result"
    }
   ],
   "source": [
    "data_dup"
   ]
  },
  {
   "attachments": {},
   "cell_type": "markdown",
   "id": "f21f1f9a",
   "metadata": {},
   "source": [
    "data processing"
   ]
  },
  {
   "cell_type": "code",
   "execution_count": 10,
   "id": "9c2dfb82",
   "metadata": {},
   "outputs": [],
   "source": [
    "cate_val=[]\n",
    "cont_val=[]\n",
    "\n",
    "for column in data.columns:\n",
    "    if data[column].nunique() <=10:\n",
    "        cate_val.append(column)\n",
    "    else:\n",
    "        cont_val.append(column)"
   ]
  },
  {
   "cell_type": "code",
   "execution_count": 11,
   "id": "e9b01548",
   "metadata": {},
   "outputs": [
    {
     "data": {
      "text/plain": [
       "['sex', 'cp', 'fbs', 'restecg', 'exang', 'slope', 'ca', 'thal', 'target']"
      ]
     },
     "execution_count": 11,
     "metadata": {},
     "output_type": "execute_result"
    }
   ],
   "source": [
    "cate_val"
   ]
  },
  {
   "cell_type": "code",
   "execution_count": 12,
   "id": "6d76df44",
   "metadata": {},
   "outputs": [
    {
     "data": {
      "text/plain": [
       "['age', 'trestbps', 'chol', 'thalach', 'oldpeak']"
      ]
     },
     "execution_count": 12,
     "metadata": {},
     "output_type": "execute_result"
    }
   ],
   "source": [
    "cont_val"
   ]
  },
  {
   "attachments": {},
   "cell_type": "markdown",
   "id": "3d86c43a",
   "metadata": {},
   "source": [
    "Encoding Categorical Data"
   ]
  },
  {
   "cell_type": "code",
   "execution_count": 13,
   "id": "9ccb4aaa",
   "metadata": {},
   "outputs": [
    {
     "data": {
      "text/plain": [
       "['sex', 'cp', 'fbs', 'restecg', 'exang', 'slope', 'ca', 'thal', 'target']"
      ]
     },
     "execution_count": 13,
     "metadata": {},
     "output_type": "execute_result"
    }
   ],
   "source": [
    "cate_val"
   ]
  },
  {
   "cell_type": "code",
   "execution_count": 14,
   "id": "e3437439",
   "metadata": {},
   "outputs": [
    {
     "data": {
      "text/plain": [
       "array([3, 2, 1, 0], dtype=int64)"
      ]
     },
     "execution_count": 14,
     "metadata": {},
     "output_type": "execute_result"
    }
   ],
   "source": [
    "data['cp'].unique()"
   ]
  },
  {
   "cell_type": "code",
   "execution_count": 15,
   "id": "f1f92236",
   "metadata": {},
   "outputs": [
    {
     "data": {
      "text/html": [
       "<div>\n",
       "<style scoped>\n",
       "    .dataframe tbody tr th:only-of-type {\n",
       "        vertical-align: middle;\n",
       "    }\n",
       "\n",
       "    .dataframe tbody tr th {\n",
       "        vertical-align: top;\n",
       "    }\n",
       "\n",
       "    .dataframe thead th {\n",
       "        text-align: right;\n",
       "    }\n",
       "</style>\n",
       "<table border=\"1\" class=\"dataframe\">\n",
       "  <thead>\n",
       "    <tr style=\"text-align: right;\">\n",
       "      <th></th>\n",
       "      <th>age</th>\n",
       "      <th>sex</th>\n",
       "      <th>cp</th>\n",
       "      <th>trestbps</th>\n",
       "      <th>chol</th>\n",
       "      <th>fbs</th>\n",
       "      <th>restecg</th>\n",
       "      <th>thalach</th>\n",
       "      <th>exang</th>\n",
       "      <th>oldpeak</th>\n",
       "      <th>slope</th>\n",
       "      <th>ca</th>\n",
       "      <th>thal</th>\n",
       "      <th>target</th>\n",
       "    </tr>\n",
       "  </thead>\n",
       "  <tbody>\n",
       "    <tr>\n",
       "      <th>0</th>\n",
       "      <td>63</td>\n",
       "      <td>1</td>\n",
       "      <td>3</td>\n",
       "      <td>145</td>\n",
       "      <td>233</td>\n",
       "      <td>1</td>\n",
       "      <td>0</td>\n",
       "      <td>150</td>\n",
       "      <td>0</td>\n",
       "      <td>2.3</td>\n",
       "      <td>0</td>\n",
       "      <td>0</td>\n",
       "      <td>1</td>\n",
       "      <td>1</td>\n",
       "    </tr>\n",
       "    <tr>\n",
       "      <th>1</th>\n",
       "      <td>37</td>\n",
       "      <td>1</td>\n",
       "      <td>2</td>\n",
       "      <td>130</td>\n",
       "      <td>250</td>\n",
       "      <td>0</td>\n",
       "      <td>1</td>\n",
       "      <td>187</td>\n",
       "      <td>0</td>\n",
       "      <td>3.5</td>\n",
       "      <td>0</td>\n",
       "      <td>0</td>\n",
       "      <td>2</td>\n",
       "      <td>1</td>\n",
       "    </tr>\n",
       "    <tr>\n",
       "      <th>2</th>\n",
       "      <td>41</td>\n",
       "      <td>0</td>\n",
       "      <td>1</td>\n",
       "      <td>130</td>\n",
       "      <td>204</td>\n",
       "      <td>0</td>\n",
       "      <td>0</td>\n",
       "      <td>172</td>\n",
       "      <td>0</td>\n",
       "      <td>1.4</td>\n",
       "      <td>2</td>\n",
       "      <td>0</td>\n",
       "      <td>2</td>\n",
       "      <td>1</td>\n",
       "    </tr>\n",
       "    <tr>\n",
       "      <th>3</th>\n",
       "      <td>56</td>\n",
       "      <td>1</td>\n",
       "      <td>1</td>\n",
       "      <td>120</td>\n",
       "      <td>236</td>\n",
       "      <td>0</td>\n",
       "      <td>1</td>\n",
       "      <td>178</td>\n",
       "      <td>0</td>\n",
       "      <td>0.8</td>\n",
       "      <td>2</td>\n",
       "      <td>0</td>\n",
       "      <td>2</td>\n",
       "      <td>1</td>\n",
       "    </tr>\n",
       "    <tr>\n",
       "      <th>4</th>\n",
       "      <td>57</td>\n",
       "      <td>0</td>\n",
       "      <td>0</td>\n",
       "      <td>120</td>\n",
       "      <td>354</td>\n",
       "      <td>0</td>\n",
       "      <td>1</td>\n",
       "      <td>163</td>\n",
       "      <td>1</td>\n",
       "      <td>0.6</td>\n",
       "      <td>2</td>\n",
       "      <td>0</td>\n",
       "      <td>2</td>\n",
       "      <td>1</td>\n",
       "    </tr>\n",
       "  </tbody>\n",
       "</table>\n",
       "</div>"
      ],
      "text/plain": [
       "   age  sex  cp  trestbps  chol  fbs  restecg  thalach  exang  oldpeak  slope  \\\n",
       "0   63    1   3       145   233    1        0      150      0      2.3      0   \n",
       "1   37    1   2       130   250    0        1      187      0      3.5      0   \n",
       "2   41    0   1       130   204    0        0      172      0      1.4      2   \n",
       "3   56    1   1       120   236    0        1      178      0      0.8      2   \n",
       "4   57    0   0       120   354    0        1      163      1      0.6      2   \n",
       "\n",
       "   ca  thal  target  \n",
       "0   0     1       1  \n",
       "1   0     2       1  \n",
       "2   0     2       1  \n",
       "3   0     2       1  \n",
       "4   0     2       1  "
      ]
     },
     "execution_count": 15,
     "metadata": {},
     "output_type": "execute_result"
    }
   ],
   "source": [
    "data.head()"
   ]
  },
  {
   "attachments": {},
   "cell_type": "markdown",
   "id": "98058982",
   "metadata": {},
   "source": [
    "feature scaling"
   ]
  },
  {
   "cell_type": "code",
   "execution_count": 16,
   "id": "1854c6bd",
   "metadata": {},
   "outputs": [],
   "source": [
    " from sklearn.preprocessing import StandardScaler"
   ]
  },
  {
   "cell_type": "code",
   "execution_count": 17,
   "id": "777456ed",
   "metadata": {},
   "outputs": [],
   "source": [
    "st =  StandardScaler()\n",
    "data[cont_val] = st.fit_transform(data[cont_val])"
   ]
  },
  {
   "cell_type": "code",
   "execution_count": 18,
   "id": "eaa28d46",
   "metadata": {},
   "outputs": [
    {
     "data": {
      "text/html": [
       "<div>\n",
       "<style scoped>\n",
       "    .dataframe tbody tr th:only-of-type {\n",
       "        vertical-align: middle;\n",
       "    }\n",
       "\n",
       "    .dataframe tbody tr th {\n",
       "        vertical-align: top;\n",
       "    }\n",
       "\n",
       "    .dataframe thead th {\n",
       "        text-align: right;\n",
       "    }\n",
       "</style>\n",
       "<table border=\"1\" class=\"dataframe\">\n",
       "  <thead>\n",
       "    <tr style=\"text-align: right;\">\n",
       "      <th></th>\n",
       "      <th>age</th>\n",
       "      <th>sex</th>\n",
       "      <th>cp</th>\n",
       "      <th>trestbps</th>\n",
       "      <th>chol</th>\n",
       "      <th>fbs</th>\n",
       "      <th>restecg</th>\n",
       "      <th>thalach</th>\n",
       "      <th>exang</th>\n",
       "      <th>oldpeak</th>\n",
       "      <th>slope</th>\n",
       "      <th>ca</th>\n",
       "      <th>thal</th>\n",
       "      <th>target</th>\n",
       "    </tr>\n",
       "  </thead>\n",
       "  <tbody>\n",
       "    <tr>\n",
       "      <th>0</th>\n",
       "      <td>0.949794</td>\n",
       "      <td>1</td>\n",
       "      <td>3</td>\n",
       "      <td>0.764066</td>\n",
       "      <td>-0.261285</td>\n",
       "      <td>1</td>\n",
       "      <td>0</td>\n",
       "      <td>0.018826</td>\n",
       "      <td>0</td>\n",
       "      <td>1.084022</td>\n",
       "      <td>0</td>\n",
       "      <td>0</td>\n",
       "      <td>1</td>\n",
       "      <td>1</td>\n",
       "    </tr>\n",
       "    <tr>\n",
       "      <th>1</th>\n",
       "      <td>-1.928548</td>\n",
       "      <td>1</td>\n",
       "      <td>2</td>\n",
       "      <td>-0.091401</td>\n",
       "      <td>0.067741</td>\n",
       "      <td>0</td>\n",
       "      <td>1</td>\n",
       "      <td>1.636979</td>\n",
       "      <td>0</td>\n",
       "      <td>2.118926</td>\n",
       "      <td>0</td>\n",
       "      <td>0</td>\n",
       "      <td>2</td>\n",
       "      <td>1</td>\n",
       "    </tr>\n",
       "    <tr>\n",
       "      <th>2</th>\n",
       "      <td>-1.485726</td>\n",
       "      <td>0</td>\n",
       "      <td>1</td>\n",
       "      <td>-0.091401</td>\n",
       "      <td>-0.822564</td>\n",
       "      <td>0</td>\n",
       "      <td>0</td>\n",
       "      <td>0.980971</td>\n",
       "      <td>0</td>\n",
       "      <td>0.307844</td>\n",
       "      <td>2</td>\n",
       "      <td>0</td>\n",
       "      <td>2</td>\n",
       "      <td>1</td>\n",
       "    </tr>\n",
       "    <tr>\n",
       "      <th>3</th>\n",
       "      <td>0.174856</td>\n",
       "      <td>1</td>\n",
       "      <td>1</td>\n",
       "      <td>-0.661712</td>\n",
       "      <td>-0.203222</td>\n",
       "      <td>0</td>\n",
       "      <td>1</td>\n",
       "      <td>1.243374</td>\n",
       "      <td>0</td>\n",
       "      <td>-0.209608</td>\n",
       "      <td>2</td>\n",
       "      <td>0</td>\n",
       "      <td>2</td>\n",
       "      <td>1</td>\n",
       "    </tr>\n",
       "    <tr>\n",
       "      <th>4</th>\n",
       "      <td>0.285561</td>\n",
       "      <td>0</td>\n",
       "      <td>0</td>\n",
       "      <td>-0.661712</td>\n",
       "      <td>2.080602</td>\n",
       "      <td>0</td>\n",
       "      <td>1</td>\n",
       "      <td>0.587366</td>\n",
       "      <td>1</td>\n",
       "      <td>-0.382092</td>\n",
       "      <td>2</td>\n",
       "      <td>0</td>\n",
       "      <td>2</td>\n",
       "      <td>1</td>\n",
       "    </tr>\n",
       "  </tbody>\n",
       "</table>\n",
       "</div>"
      ],
      "text/plain": [
       "        age  sex  cp  trestbps      chol  fbs  restecg   thalach  exang  \\\n",
       "0  0.949794    1   3  0.764066 -0.261285    1        0  0.018826      0   \n",
       "1 -1.928548    1   2 -0.091401  0.067741    0        1  1.636979      0   \n",
       "2 -1.485726    0   1 -0.091401 -0.822564    0        0  0.980971      0   \n",
       "3  0.174856    1   1 -0.661712 -0.203222    0        1  1.243374      0   \n",
       "4  0.285561    0   0 -0.661712  2.080602    0        1  0.587366      1   \n",
       "\n",
       "    oldpeak  slope  ca  thal  target  \n",
       "0  1.084022      0   0     1       1  \n",
       "1  2.118926      0   0     2       1  \n",
       "2  0.307844      2   0     2       1  \n",
       "3 -0.209608      2   0     2       1  \n",
       "4 -0.382092      2   0     2       1  "
      ]
     },
     "execution_count": 18,
     "metadata": {},
     "output_type": "execute_result"
    }
   ],
   "source": [
    "data.head()"
   ]
  },
  {
   "attachments": {},
   "cell_type": "markdown",
   "id": "d241fb0b",
   "metadata": {},
   "source": [
    "dataset into training set and test set splitting"
   ]
  },
  {
   "cell_type": "code",
   "execution_count": 19,
   "id": "ed2dc326",
   "metadata": {},
   "outputs": [],
   "source": [
    "X = data.drop('target',axis=1)"
   ]
  },
  {
   "cell_type": "code",
   "execution_count": 20,
   "id": "8521cb56",
   "metadata": {},
   "outputs": [],
   "source": [
    "Y = data['target']"
   ]
  },
  {
   "cell_type": "code",
   "execution_count": 21,
   "id": "a8a6b685",
   "metadata": {},
   "outputs": [],
   "source": [
    "from sklearn.model_selection import train_test_split"
   ]
  },
  {
   "cell_type": "code",
   "execution_count": 22,
   "id": "4517c644",
   "metadata": {},
   "outputs": [],
   "source": [
    "X_train, X_test, Y_train, Y_test=train_test_split(X,Y,test_size=0.2,random_state=42)"
   ]
  },
  {
   "cell_type": "code",
   "execution_count": 23,
   "id": "91b84fa9",
   "metadata": {},
   "outputs": [
    {
     "data": {
      "text/html": [
       "<div>\n",
       "<style scoped>\n",
       "    .dataframe tbody tr th:only-of-type {\n",
       "        vertical-align: middle;\n",
       "    }\n",
       "\n",
       "    .dataframe tbody tr th {\n",
       "        vertical-align: top;\n",
       "    }\n",
       "\n",
       "    .dataframe thead th {\n",
       "        text-align: right;\n",
       "    }\n",
       "</style>\n",
       "<table border=\"1\" class=\"dataframe\">\n",
       "  <thead>\n",
       "    <tr style=\"text-align: right;\">\n",
       "      <th></th>\n",
       "      <th>age</th>\n",
       "      <th>sex</th>\n",
       "      <th>cp</th>\n",
       "      <th>trestbps</th>\n",
       "      <th>chol</th>\n",
       "      <th>fbs</th>\n",
       "      <th>restecg</th>\n",
       "      <th>thalach</th>\n",
       "      <th>exang</th>\n",
       "      <th>oldpeak</th>\n",
       "      <th>slope</th>\n",
       "      <th>ca</th>\n",
       "      <th>thal</th>\n",
       "    </tr>\n",
       "  </thead>\n",
       "  <tbody>\n",
       "    <tr>\n",
       "      <th>180</th>\n",
       "      <td>0.064151</td>\n",
       "      <td>1</td>\n",
       "      <td>0</td>\n",
       "      <td>0.022661</td>\n",
       "      <td>2.061248</td>\n",
       "      <td>0</td>\n",
       "      <td>1</td>\n",
       "      <td>-0.768384</td>\n",
       "      <td>1</td>\n",
       "      <td>0.135360</td>\n",
       "      <td>1</td>\n",
       "      <td>1</td>\n",
       "      <td>3</td>\n",
       "    </tr>\n",
       "    <tr>\n",
       "      <th>229</th>\n",
       "      <td>1.060500</td>\n",
       "      <td>1</td>\n",
       "      <td>2</td>\n",
       "      <td>-0.376556</td>\n",
       "      <td>1.209652</td>\n",
       "      <td>0</td>\n",
       "      <td>1</td>\n",
       "      <td>-0.812118</td>\n",
       "      <td>1</td>\n",
       "      <td>0.652812</td>\n",
       "      <td>1</td>\n",
       "      <td>0</td>\n",
       "      <td>3</td>\n",
       "    </tr>\n",
       "    <tr>\n",
       "      <th>111</th>\n",
       "      <td>0.285561</td>\n",
       "      <td>1</td>\n",
       "      <td>2</td>\n",
       "      <td>1.049221</td>\n",
       "      <td>-2.332210</td>\n",
       "      <td>1</td>\n",
       "      <td>1</td>\n",
       "      <td>1.024705</td>\n",
       "      <td>0</td>\n",
       "      <td>-0.727060</td>\n",
       "      <td>2</td>\n",
       "      <td>1</td>\n",
       "      <td>3</td>\n",
       "    </tr>\n",
       "    <tr>\n",
       "      <th>247</th>\n",
       "      <td>1.281911</td>\n",
       "      <td>1</td>\n",
       "      <td>1</td>\n",
       "      <td>1.619532</td>\n",
       "      <td>-0.009677</td>\n",
       "      <td>0</td>\n",
       "      <td>1</td>\n",
       "      <td>-1.293190</td>\n",
       "      <td>1</td>\n",
       "      <td>-0.899544</td>\n",
       "      <td>1</td>\n",
       "      <td>3</td>\n",
       "      <td>1</td>\n",
       "    </tr>\n",
       "    <tr>\n",
       "      <th>60</th>\n",
       "      <td>1.835438</td>\n",
       "      <td>0</td>\n",
       "      <td>2</td>\n",
       "      <td>-1.232023</td>\n",
       "      <td>0.358057</td>\n",
       "      <td>1</td>\n",
       "      <td>0</td>\n",
       "      <td>-0.855851</td>\n",
       "      <td>0</td>\n",
       "      <td>-0.899544</td>\n",
       "      <td>2</td>\n",
       "      <td>1</td>\n",
       "      <td>2</td>\n",
       "    </tr>\n",
       "    <tr>\n",
       "      <th>...</th>\n",
       "      <td>...</td>\n",
       "      <td>...</td>\n",
       "      <td>...</td>\n",
       "      <td>...</td>\n",
       "      <td>...</td>\n",
       "      <td>...</td>\n",
       "      <td>...</td>\n",
       "      <td>...</td>\n",
       "      <td>...</td>\n",
       "      <td>...</td>\n",
       "      <td>...</td>\n",
       "      <td>...</td>\n",
       "      <td>...</td>\n",
       "    </tr>\n",
       "    <tr>\n",
       "      <th>250</th>\n",
       "      <td>-0.378671</td>\n",
       "      <td>1</td>\n",
       "      <td>0</td>\n",
       "      <td>0.478910</td>\n",
       "      <td>0.996754</td>\n",
       "      <td>0</td>\n",
       "      <td>1</td>\n",
       "      <td>-1.205722</td>\n",
       "      <td>1</td>\n",
       "      <td>2.722620</td>\n",
       "      <td>1</td>\n",
       "      <td>3</td>\n",
       "      <td>3</td>\n",
       "    </tr>\n",
       "    <tr>\n",
       "      <th>104</th>\n",
       "      <td>-0.489377</td>\n",
       "      <td>1</td>\n",
       "      <td>2</td>\n",
       "      <td>-0.148432</td>\n",
       "      <td>-0.977399</td>\n",
       "      <td>0</td>\n",
       "      <td>1</td>\n",
       "      <td>0.587366</td>\n",
       "      <td>0</td>\n",
       "      <td>-0.899544</td>\n",
       "      <td>2</td>\n",
       "      <td>0</td>\n",
       "      <td>2</td>\n",
       "    </tr>\n",
       "    <tr>\n",
       "      <th>300</th>\n",
       "      <td>1.503322</td>\n",
       "      <td>1</td>\n",
       "      <td>0</td>\n",
       "      <td>0.707035</td>\n",
       "      <td>-1.035462</td>\n",
       "      <td>1</td>\n",
       "      <td>1</td>\n",
       "      <td>-0.374779</td>\n",
       "      <td>0</td>\n",
       "      <td>2.032684</td>\n",
       "      <td>1</td>\n",
       "      <td>2</td>\n",
       "      <td>3</td>\n",
       "    </tr>\n",
       "    <tr>\n",
       "      <th>194</th>\n",
       "      <td>0.617678</td>\n",
       "      <td>1</td>\n",
       "      <td>2</td>\n",
       "      <td>0.478910</td>\n",
       "      <td>-1.190298</td>\n",
       "      <td>0</td>\n",
       "      <td>0</td>\n",
       "      <td>0.237495</td>\n",
       "      <td>0</td>\n",
       "      <td>1.687716</td>\n",
       "      <td>1</td>\n",
       "      <td>0</td>\n",
       "      <td>2</td>\n",
       "    </tr>\n",
       "    <tr>\n",
       "      <th>185</th>\n",
       "      <td>-1.153610</td>\n",
       "      <td>1</td>\n",
       "      <td>0</td>\n",
       "      <td>-1.117961</td>\n",
       "      <td>0.841918</td>\n",
       "      <td>0</td>\n",
       "      <td>0</td>\n",
       "      <td>0.150027</td>\n",
       "      <td>0</td>\n",
       "      <td>-0.899544</td>\n",
       "      <td>2</td>\n",
       "      <td>1</td>\n",
       "      <td>2</td>\n",
       "    </tr>\n",
       "  </tbody>\n",
       "</table>\n",
       "<p>61 rows × 13 columns</p>\n",
       "</div>"
      ],
      "text/plain": [
       "          age  sex  cp  trestbps      chol  fbs  restecg   thalach  exang  \\\n",
       "180  0.064151    1   0  0.022661  2.061248    0        1 -0.768384      1   \n",
       "229  1.060500    1   2 -0.376556  1.209652    0        1 -0.812118      1   \n",
       "111  0.285561    1   2  1.049221 -2.332210    1        1  1.024705      0   \n",
       "247  1.281911    1   1  1.619532 -0.009677    0        1 -1.293190      1   \n",
       "60   1.835438    0   2 -1.232023  0.358057    1        0 -0.855851      0   \n",
       "..        ...  ...  ..       ...       ...  ...      ...       ...    ...   \n",
       "250 -0.378671    1   0  0.478910  0.996754    0        1 -1.205722      1   \n",
       "104 -0.489377    1   2 -0.148432 -0.977399    0        1  0.587366      0   \n",
       "300  1.503322    1   0  0.707035 -1.035462    1        1 -0.374779      0   \n",
       "194  0.617678    1   2  0.478910 -1.190298    0        0  0.237495      0   \n",
       "185 -1.153610    1   0 -1.117961  0.841918    0        0  0.150027      0   \n",
       "\n",
       "      oldpeak  slope  ca  thal  \n",
       "180  0.135360      1   1     3  \n",
       "229  0.652812      1   0     3  \n",
       "111 -0.727060      2   1     3  \n",
       "247 -0.899544      1   3     1  \n",
       "60  -0.899544      2   1     2  \n",
       "..        ...    ...  ..   ...  \n",
       "250  2.722620      1   3     3  \n",
       "104 -0.899544      2   0     2  \n",
       "300  2.032684      1   2     3  \n",
       "194  1.687716      1   0     2  \n",
       "185 -0.899544      2   1     2  \n",
       "\n",
       "[61 rows x 13 columns]"
      ]
     },
     "execution_count": 23,
     "metadata": {},
     "output_type": "execute_result"
    }
   ],
   "source": [
    "X_test"
   ]
  },
  {
   "cell_type": "code",
   "execution_count": 24,
   "id": "6ca57b7c",
   "metadata": {},
   "outputs": [
    {
     "data": {
      "text/plain": [
       "180    0\n",
       "229    0\n",
       "111    1\n",
       "247    0\n",
       "60     1\n",
       "      ..\n",
       "250    0\n",
       "104    1\n",
       "300    0\n",
       "194    0\n",
       "185    0\n",
       "Name: target, Length: 61, dtype: int64"
      ]
     },
     "execution_count": 24,
     "metadata": {},
     "output_type": "execute_result"
    }
   ],
   "source": [
    "Y_test"
   ]
  },
  {
   "attachments": {},
   "cell_type": "markdown",
   "id": "c970dbcc",
   "metadata": {},
   "source": [
    "logistic regression"
   ]
  },
  {
   "cell_type": "code",
   "execution_count": 25,
   "id": "e4fac6b2",
   "metadata": {},
   "outputs": [
    {
     "data": {
      "text/html": [
       "<div>\n",
       "<style scoped>\n",
       "    .dataframe tbody tr th:only-of-type {\n",
       "        vertical-align: middle;\n",
       "    }\n",
       "\n",
       "    .dataframe tbody tr th {\n",
       "        vertical-align: top;\n",
       "    }\n",
       "\n",
       "    .dataframe thead th {\n",
       "        text-align: right;\n",
       "    }\n",
       "</style>\n",
       "<table border=\"1\" class=\"dataframe\">\n",
       "  <thead>\n",
       "    <tr style=\"text-align: right;\">\n",
       "      <th></th>\n",
       "      <th>age</th>\n",
       "      <th>sex</th>\n",
       "      <th>cp</th>\n",
       "      <th>trestbps</th>\n",
       "      <th>chol</th>\n",
       "      <th>fbs</th>\n",
       "      <th>restecg</th>\n",
       "      <th>thalach</th>\n",
       "      <th>exang</th>\n",
       "      <th>oldpeak</th>\n",
       "      <th>slope</th>\n",
       "      <th>ca</th>\n",
       "      <th>thal</th>\n",
       "      <th>target</th>\n",
       "    </tr>\n",
       "  </thead>\n",
       "  <tbody>\n",
       "    <tr>\n",
       "      <th>0</th>\n",
       "      <td>0.949794</td>\n",
       "      <td>1</td>\n",
       "      <td>3</td>\n",
       "      <td>0.764066</td>\n",
       "      <td>-0.261285</td>\n",
       "      <td>1</td>\n",
       "      <td>0</td>\n",
       "      <td>0.018826</td>\n",
       "      <td>0</td>\n",
       "      <td>1.084022</td>\n",
       "      <td>0</td>\n",
       "      <td>0</td>\n",
       "      <td>1</td>\n",
       "      <td>1</td>\n",
       "    </tr>\n",
       "    <tr>\n",
       "      <th>1</th>\n",
       "      <td>-1.928548</td>\n",
       "      <td>1</td>\n",
       "      <td>2</td>\n",
       "      <td>-0.091401</td>\n",
       "      <td>0.067741</td>\n",
       "      <td>0</td>\n",
       "      <td>1</td>\n",
       "      <td>1.636979</td>\n",
       "      <td>0</td>\n",
       "      <td>2.118926</td>\n",
       "      <td>0</td>\n",
       "      <td>0</td>\n",
       "      <td>2</td>\n",
       "      <td>1</td>\n",
       "    </tr>\n",
       "    <tr>\n",
       "      <th>2</th>\n",
       "      <td>-1.485726</td>\n",
       "      <td>0</td>\n",
       "      <td>1</td>\n",
       "      <td>-0.091401</td>\n",
       "      <td>-0.822564</td>\n",
       "      <td>0</td>\n",
       "      <td>0</td>\n",
       "      <td>0.980971</td>\n",
       "      <td>0</td>\n",
       "      <td>0.307844</td>\n",
       "      <td>2</td>\n",
       "      <td>0</td>\n",
       "      <td>2</td>\n",
       "      <td>1</td>\n",
       "    </tr>\n",
       "    <tr>\n",
       "      <th>3</th>\n",
       "      <td>0.174856</td>\n",
       "      <td>1</td>\n",
       "      <td>1</td>\n",
       "      <td>-0.661712</td>\n",
       "      <td>-0.203222</td>\n",
       "      <td>0</td>\n",
       "      <td>1</td>\n",
       "      <td>1.243374</td>\n",
       "      <td>0</td>\n",
       "      <td>-0.209608</td>\n",
       "      <td>2</td>\n",
       "      <td>0</td>\n",
       "      <td>2</td>\n",
       "      <td>1</td>\n",
       "    </tr>\n",
       "    <tr>\n",
       "      <th>4</th>\n",
       "      <td>0.285561</td>\n",
       "      <td>0</td>\n",
       "      <td>0</td>\n",
       "      <td>-0.661712</td>\n",
       "      <td>2.080602</td>\n",
       "      <td>0</td>\n",
       "      <td>1</td>\n",
       "      <td>0.587366</td>\n",
       "      <td>1</td>\n",
       "      <td>-0.382092</td>\n",
       "      <td>2</td>\n",
       "      <td>0</td>\n",
       "      <td>2</td>\n",
       "      <td>1</td>\n",
       "    </tr>\n",
       "  </tbody>\n",
       "</table>\n",
       "</div>"
      ],
      "text/plain": [
       "        age  sex  cp  trestbps      chol  fbs  restecg   thalach  exang  \\\n",
       "0  0.949794    1   3  0.764066 -0.261285    1        0  0.018826      0   \n",
       "1 -1.928548    1   2 -0.091401  0.067741    0        1  1.636979      0   \n",
       "2 -1.485726    0   1 -0.091401 -0.822564    0        0  0.980971      0   \n",
       "3  0.174856    1   1 -0.661712 -0.203222    0        1  1.243374      0   \n",
       "4  0.285561    0   0 -0.661712  2.080602    0        1  0.587366      1   \n",
       "\n",
       "    oldpeak  slope  ca  thal  target  \n",
       "0  1.084022      0   0     1       1  \n",
       "1  2.118926      0   0     2       1  \n",
       "2  0.307844      2   0     2       1  \n",
       "3 -0.209608      2   0     2       1  \n",
       "4 -0.382092      2   0     2       1  "
      ]
     },
     "execution_count": 25,
     "metadata": {},
     "output_type": "execute_result"
    }
   ],
   "source": [
    "data.head()"
   ]
  },
  {
   "cell_type": "code",
   "execution_count": 26,
   "id": "ab9a5728",
   "metadata": {},
   "outputs": [],
   "source": [
    "from sklearn.linear_model import LogisticRegression"
   ]
  },
  {
   "cell_type": "code",
   "execution_count": 27,
   "id": "da3a1d52",
   "metadata": {},
   "outputs": [
    {
     "data": {
      "text/html": [
       "<style>#sk-container-id-1 {color: black;background-color: white;}#sk-container-id-1 pre{padding: 0;}#sk-container-id-1 div.sk-toggleable {background-color: white;}#sk-container-id-1 label.sk-toggleable__label {cursor: pointer;display: block;width: 100%;margin-bottom: 0;padding: 0.3em;box-sizing: border-box;text-align: center;}#sk-container-id-1 label.sk-toggleable__label-arrow:before {content: \"▸\";float: left;margin-right: 0.25em;color: #696969;}#sk-container-id-1 label.sk-toggleable__label-arrow:hover:before {color: black;}#sk-container-id-1 div.sk-estimator:hover label.sk-toggleable__label-arrow:before {color: black;}#sk-container-id-1 div.sk-toggleable__content {max-height: 0;max-width: 0;overflow: hidden;text-align: left;background-color: #f0f8ff;}#sk-container-id-1 div.sk-toggleable__content pre {margin: 0.2em;color: black;border-radius: 0.25em;background-color: #f0f8ff;}#sk-container-id-1 input.sk-toggleable__control:checked~div.sk-toggleable__content {max-height: 200px;max-width: 100%;overflow: auto;}#sk-container-id-1 input.sk-toggleable__control:checked~label.sk-toggleable__label-arrow:before {content: \"▾\";}#sk-container-id-1 div.sk-estimator input.sk-toggleable__control:checked~label.sk-toggleable__label {background-color: #d4ebff;}#sk-container-id-1 div.sk-label input.sk-toggleable__control:checked~label.sk-toggleable__label {background-color: #d4ebff;}#sk-container-id-1 input.sk-hidden--visually {border: 0;clip: rect(1px 1px 1px 1px);clip: rect(1px, 1px, 1px, 1px);height: 1px;margin: -1px;overflow: hidden;padding: 0;position: absolute;width: 1px;}#sk-container-id-1 div.sk-estimator {font-family: monospace;background-color: #f0f8ff;border: 1px dotted black;border-radius: 0.25em;box-sizing: border-box;margin-bottom: 0.5em;}#sk-container-id-1 div.sk-estimator:hover {background-color: #d4ebff;}#sk-container-id-1 div.sk-parallel-item::after {content: \"\";width: 100%;border-bottom: 1px solid gray;flex-grow: 1;}#sk-container-id-1 div.sk-label:hover label.sk-toggleable__label {background-color: #d4ebff;}#sk-container-id-1 div.sk-serial::before {content: \"\";position: absolute;border-left: 1px solid gray;box-sizing: border-box;top: 0;bottom: 0;left: 50%;z-index: 0;}#sk-container-id-1 div.sk-serial {display: flex;flex-direction: column;align-items: center;background-color: white;padding-right: 0.2em;padding-left: 0.2em;position: relative;}#sk-container-id-1 div.sk-item {position: relative;z-index: 1;}#sk-container-id-1 div.sk-parallel {display: flex;align-items: stretch;justify-content: center;background-color: white;position: relative;}#sk-container-id-1 div.sk-item::before, #sk-container-id-1 div.sk-parallel-item::before {content: \"\";position: absolute;border-left: 1px solid gray;box-sizing: border-box;top: 0;bottom: 0;left: 50%;z-index: -1;}#sk-container-id-1 div.sk-parallel-item {display: flex;flex-direction: column;z-index: 1;position: relative;background-color: white;}#sk-container-id-1 div.sk-parallel-item:first-child::after {align-self: flex-end;width: 50%;}#sk-container-id-1 div.sk-parallel-item:last-child::after {align-self: flex-start;width: 50%;}#sk-container-id-1 div.sk-parallel-item:only-child::after {width: 0;}#sk-container-id-1 div.sk-dashed-wrapped {border: 1px dashed gray;margin: 0 0.4em 0.5em 0.4em;box-sizing: border-box;padding-bottom: 0.4em;background-color: white;}#sk-container-id-1 div.sk-label label {font-family: monospace;font-weight: bold;display: inline-block;line-height: 1.2em;}#sk-container-id-1 div.sk-label-container {text-align: center;}#sk-container-id-1 div.sk-container {/* jupyter's `normalize.less` sets `[hidden] { display: none; }` but bootstrap.min.css set `[hidden] { display: none !important; }` so we also need the `!important` here to be able to override the default hidden behavior on the sphinx rendered scikit-learn.org. See: https://github.com/scikit-learn/scikit-learn/issues/21755 */display: inline-block !important;position: relative;}#sk-container-id-1 div.sk-text-repr-fallback {display: none;}</style><div id=\"sk-container-id-1\" class=\"sk-top-container\"><div class=\"sk-text-repr-fallback\"><pre>LogisticRegression()</pre><b>In a Jupyter environment, please rerun this cell to show the HTML representation or trust the notebook. <br />On GitHub, the HTML representation is unable to render, please try loading this page with nbviewer.org.</b></div><div class=\"sk-container\" hidden><div class=\"sk-item\"><div class=\"sk-estimator sk-toggleable\"><input class=\"sk-toggleable__control sk-hidden--visually\" id=\"sk-estimator-id-1\" type=\"checkbox\" checked><label for=\"sk-estimator-id-1\" class=\"sk-toggleable__label sk-toggleable__label-arrow\">LogisticRegression</label><div class=\"sk-toggleable__content\"><pre>LogisticRegression()</pre></div></div></div></div></div>"
      ],
      "text/plain": [
       "LogisticRegression()"
      ]
     },
     "execution_count": 27,
     "metadata": {},
     "output_type": "execute_result"
    }
   ],
   "source": [
    "log = LogisticRegression()\n",
    "log.fit(X_train,Y_train)"
   ]
  },
  {
   "cell_type": "code",
   "execution_count": 28,
   "id": "3ad587f6",
   "metadata": {},
   "outputs": [],
   "source": [
    "Y_pred1 = log.predict(X_test)"
   ]
  },
  {
   "attachments": {},
   "cell_type": "markdown",
   "id": "ac1d18a4",
   "metadata": {},
   "source": [
    "using metrics"
   ]
  },
  {
   "cell_type": "code",
   "execution_count": 29,
   "id": "2628d6f4",
   "metadata": {},
   "outputs": [],
   "source": [
    "from sklearn.metrics import accuracy_score"
   ]
  },
  {
   "cell_type": "code",
   "execution_count": 30,
   "id": "a4736033",
   "metadata": {},
   "outputs": [
    {
     "data": {
      "text/plain": [
       "0.8360655737704918"
      ]
     },
     "execution_count": 30,
     "metadata": {},
     "output_type": "execute_result"
    }
   ],
   "source": [
    "accuracy_score(Y_test,Y_pred1)"
   ]
  },
  {
   "attachments": {},
   "cell_type": "markdown",
   "id": "b01fe3d9",
   "metadata": {},
   "source": [
    "using support vector classifer"
   ]
  },
  {
   "cell_type": "code",
   "execution_count": 31,
   "id": "bb2d689d",
   "metadata": {},
   "outputs": [],
   "source": [
    "from sklearn import svm"
   ]
  },
  {
   "cell_type": "code",
   "execution_count": 32,
   "id": "7378a550",
   "metadata": {},
   "outputs": [],
   "source": [
    "clif = svm.SVC()"
   ]
  },
  {
   "cell_type": "code",
   "execution_count": 33,
   "id": "0cdf28c8",
   "metadata": {},
   "outputs": [
    {
     "data": {
      "text/html": [
       "<style>#sk-container-id-2 {color: black;background-color: white;}#sk-container-id-2 pre{padding: 0;}#sk-container-id-2 div.sk-toggleable {background-color: white;}#sk-container-id-2 label.sk-toggleable__label {cursor: pointer;display: block;width: 100%;margin-bottom: 0;padding: 0.3em;box-sizing: border-box;text-align: center;}#sk-container-id-2 label.sk-toggleable__label-arrow:before {content: \"▸\";float: left;margin-right: 0.25em;color: #696969;}#sk-container-id-2 label.sk-toggleable__label-arrow:hover:before {color: black;}#sk-container-id-2 div.sk-estimator:hover label.sk-toggleable__label-arrow:before {color: black;}#sk-container-id-2 div.sk-toggleable__content {max-height: 0;max-width: 0;overflow: hidden;text-align: left;background-color: #f0f8ff;}#sk-container-id-2 div.sk-toggleable__content pre {margin: 0.2em;color: black;border-radius: 0.25em;background-color: #f0f8ff;}#sk-container-id-2 input.sk-toggleable__control:checked~div.sk-toggleable__content {max-height: 200px;max-width: 100%;overflow: auto;}#sk-container-id-2 input.sk-toggleable__control:checked~label.sk-toggleable__label-arrow:before {content: \"▾\";}#sk-container-id-2 div.sk-estimator input.sk-toggleable__control:checked~label.sk-toggleable__label {background-color: #d4ebff;}#sk-container-id-2 div.sk-label input.sk-toggleable__control:checked~label.sk-toggleable__label {background-color: #d4ebff;}#sk-container-id-2 input.sk-hidden--visually {border: 0;clip: rect(1px 1px 1px 1px);clip: rect(1px, 1px, 1px, 1px);height: 1px;margin: -1px;overflow: hidden;padding: 0;position: absolute;width: 1px;}#sk-container-id-2 div.sk-estimator {font-family: monospace;background-color: #f0f8ff;border: 1px dotted black;border-radius: 0.25em;box-sizing: border-box;margin-bottom: 0.5em;}#sk-container-id-2 div.sk-estimator:hover {background-color: #d4ebff;}#sk-container-id-2 div.sk-parallel-item::after {content: \"\";width: 100%;border-bottom: 1px solid gray;flex-grow: 1;}#sk-container-id-2 div.sk-label:hover label.sk-toggleable__label {background-color: #d4ebff;}#sk-container-id-2 div.sk-serial::before {content: \"\";position: absolute;border-left: 1px solid gray;box-sizing: border-box;top: 0;bottom: 0;left: 50%;z-index: 0;}#sk-container-id-2 div.sk-serial {display: flex;flex-direction: column;align-items: center;background-color: white;padding-right: 0.2em;padding-left: 0.2em;position: relative;}#sk-container-id-2 div.sk-item {position: relative;z-index: 1;}#sk-container-id-2 div.sk-parallel {display: flex;align-items: stretch;justify-content: center;background-color: white;position: relative;}#sk-container-id-2 div.sk-item::before, #sk-container-id-2 div.sk-parallel-item::before {content: \"\";position: absolute;border-left: 1px solid gray;box-sizing: border-box;top: 0;bottom: 0;left: 50%;z-index: -1;}#sk-container-id-2 div.sk-parallel-item {display: flex;flex-direction: column;z-index: 1;position: relative;background-color: white;}#sk-container-id-2 div.sk-parallel-item:first-child::after {align-self: flex-end;width: 50%;}#sk-container-id-2 div.sk-parallel-item:last-child::after {align-self: flex-start;width: 50%;}#sk-container-id-2 div.sk-parallel-item:only-child::after {width: 0;}#sk-container-id-2 div.sk-dashed-wrapped {border: 1px dashed gray;margin: 0 0.4em 0.5em 0.4em;box-sizing: border-box;padding-bottom: 0.4em;background-color: white;}#sk-container-id-2 div.sk-label label {font-family: monospace;font-weight: bold;display: inline-block;line-height: 1.2em;}#sk-container-id-2 div.sk-label-container {text-align: center;}#sk-container-id-2 div.sk-container {/* jupyter's `normalize.less` sets `[hidden] { display: none; }` but bootstrap.min.css set `[hidden] { display: none !important; }` so we also need the `!important` here to be able to override the default hidden behavior on the sphinx rendered scikit-learn.org. See: https://github.com/scikit-learn/scikit-learn/issues/21755 */display: inline-block !important;position: relative;}#sk-container-id-2 div.sk-text-repr-fallback {display: none;}</style><div id=\"sk-container-id-2\" class=\"sk-top-container\"><div class=\"sk-text-repr-fallback\"><pre>SVC()</pre><b>In a Jupyter environment, please rerun this cell to show the HTML representation or trust the notebook. <br />On GitHub, the HTML representation is unable to render, please try loading this page with nbviewer.org.</b></div><div class=\"sk-container\" hidden><div class=\"sk-item\"><div class=\"sk-estimator sk-toggleable\"><input class=\"sk-toggleable__control sk-hidden--visually\" id=\"sk-estimator-id-2\" type=\"checkbox\" checked><label for=\"sk-estimator-id-2\" class=\"sk-toggleable__label sk-toggleable__label-arrow\">SVC</label><div class=\"sk-toggleable__content\"><pre>SVC()</pre></div></div></div></div></div>"
      ],
      "text/plain": [
       "SVC()"
      ]
     },
     "execution_count": 33,
     "metadata": {},
     "output_type": "execute_result"
    }
   ],
   "source": [
    "clif.fit(X_train,Y_train)"
   ]
  },
  {
   "cell_type": "code",
   "execution_count": 34,
   "id": "c9f9b1da",
   "metadata": {},
   "outputs": [],
   "source": [
    "Y_pred2 =  clif.predict(X_test)"
   ]
  },
  {
   "cell_type": "code",
   "execution_count": 35,
   "id": "90a8fdba",
   "metadata": {},
   "outputs": [
    {
     "data": {
      "text/plain": [
       "0.8852459016393442"
      ]
     },
     "execution_count": 35,
     "metadata": {},
     "output_type": "execute_result"
    }
   ],
   "source": [
    "accuracy_score(Y_test,Y_pred2)"
   ]
  },
  {
   "attachments": {},
   "cell_type": "markdown",
   "id": "0504754f",
   "metadata": {},
   "source": [
    "using kneighbors classifer\n",
    " -KNN works by assuming dots which are closer together belong to the same class. If n_neighbors=5 then it assume a dot with the 5 closest dots around it are in the same class."
   ]
  },
  {
   "cell_type": "code",
   "execution_count": 36,
   "id": "0b8f8411",
   "metadata": {},
   "outputs": [],
   "source": [
    "from sklearn.neighbors import KNeighborsClassifier"
   ]
  },
  {
   "cell_type": "code",
   "execution_count": 37,
   "id": "ef6460ec",
   "metadata": {},
   "outputs": [],
   "source": [
    "knn = KNeighborsClassifier()"
   ]
  },
  {
   "cell_type": "code",
   "execution_count": 38,
   "id": "5122b211",
   "metadata": {},
   "outputs": [
    {
     "data": {
      "text/html": [
       "<style>#sk-container-id-3 {color: black;background-color: white;}#sk-container-id-3 pre{padding: 0;}#sk-container-id-3 div.sk-toggleable {background-color: white;}#sk-container-id-3 label.sk-toggleable__label {cursor: pointer;display: block;width: 100%;margin-bottom: 0;padding: 0.3em;box-sizing: border-box;text-align: center;}#sk-container-id-3 label.sk-toggleable__label-arrow:before {content: \"▸\";float: left;margin-right: 0.25em;color: #696969;}#sk-container-id-3 label.sk-toggleable__label-arrow:hover:before {color: black;}#sk-container-id-3 div.sk-estimator:hover label.sk-toggleable__label-arrow:before {color: black;}#sk-container-id-3 div.sk-toggleable__content {max-height: 0;max-width: 0;overflow: hidden;text-align: left;background-color: #f0f8ff;}#sk-container-id-3 div.sk-toggleable__content pre {margin: 0.2em;color: black;border-radius: 0.25em;background-color: #f0f8ff;}#sk-container-id-3 input.sk-toggleable__control:checked~div.sk-toggleable__content {max-height: 200px;max-width: 100%;overflow: auto;}#sk-container-id-3 input.sk-toggleable__control:checked~label.sk-toggleable__label-arrow:before {content: \"▾\";}#sk-container-id-3 div.sk-estimator input.sk-toggleable__control:checked~label.sk-toggleable__label {background-color: #d4ebff;}#sk-container-id-3 div.sk-label input.sk-toggleable__control:checked~label.sk-toggleable__label {background-color: #d4ebff;}#sk-container-id-3 input.sk-hidden--visually {border: 0;clip: rect(1px 1px 1px 1px);clip: rect(1px, 1px, 1px, 1px);height: 1px;margin: -1px;overflow: hidden;padding: 0;position: absolute;width: 1px;}#sk-container-id-3 div.sk-estimator {font-family: monospace;background-color: #f0f8ff;border: 1px dotted black;border-radius: 0.25em;box-sizing: border-box;margin-bottom: 0.5em;}#sk-container-id-3 div.sk-estimator:hover {background-color: #d4ebff;}#sk-container-id-3 div.sk-parallel-item::after {content: \"\";width: 100%;border-bottom: 1px solid gray;flex-grow: 1;}#sk-container-id-3 div.sk-label:hover label.sk-toggleable__label {background-color: #d4ebff;}#sk-container-id-3 div.sk-serial::before {content: \"\";position: absolute;border-left: 1px solid gray;box-sizing: border-box;top: 0;bottom: 0;left: 50%;z-index: 0;}#sk-container-id-3 div.sk-serial {display: flex;flex-direction: column;align-items: center;background-color: white;padding-right: 0.2em;padding-left: 0.2em;position: relative;}#sk-container-id-3 div.sk-item {position: relative;z-index: 1;}#sk-container-id-3 div.sk-parallel {display: flex;align-items: stretch;justify-content: center;background-color: white;position: relative;}#sk-container-id-3 div.sk-item::before, #sk-container-id-3 div.sk-parallel-item::before {content: \"\";position: absolute;border-left: 1px solid gray;box-sizing: border-box;top: 0;bottom: 0;left: 50%;z-index: -1;}#sk-container-id-3 div.sk-parallel-item {display: flex;flex-direction: column;z-index: 1;position: relative;background-color: white;}#sk-container-id-3 div.sk-parallel-item:first-child::after {align-self: flex-end;width: 50%;}#sk-container-id-3 div.sk-parallel-item:last-child::after {align-self: flex-start;width: 50%;}#sk-container-id-3 div.sk-parallel-item:only-child::after {width: 0;}#sk-container-id-3 div.sk-dashed-wrapped {border: 1px dashed gray;margin: 0 0.4em 0.5em 0.4em;box-sizing: border-box;padding-bottom: 0.4em;background-color: white;}#sk-container-id-3 div.sk-label label {font-family: monospace;font-weight: bold;display: inline-block;line-height: 1.2em;}#sk-container-id-3 div.sk-label-container {text-align: center;}#sk-container-id-3 div.sk-container {/* jupyter's `normalize.less` sets `[hidden] { display: none; }` but bootstrap.min.css set `[hidden] { display: none !important; }` so we also need the `!important` here to be able to override the default hidden behavior on the sphinx rendered scikit-learn.org. See: https://github.com/scikit-learn/scikit-learn/issues/21755 */display: inline-block !important;position: relative;}#sk-container-id-3 div.sk-text-repr-fallback {display: none;}</style><div id=\"sk-container-id-3\" class=\"sk-top-container\"><div class=\"sk-text-repr-fallback\"><pre>KNeighborsClassifier()</pre><b>In a Jupyter environment, please rerun this cell to show the HTML representation or trust the notebook. <br />On GitHub, the HTML representation is unable to render, please try loading this page with nbviewer.org.</b></div><div class=\"sk-container\" hidden><div class=\"sk-item\"><div class=\"sk-estimator sk-toggleable\"><input class=\"sk-toggleable__control sk-hidden--visually\" id=\"sk-estimator-id-3\" type=\"checkbox\" checked><label for=\"sk-estimator-id-3\" class=\"sk-toggleable__label sk-toggleable__label-arrow\">KNeighborsClassifier</label><div class=\"sk-toggleable__content\"><pre>KNeighborsClassifier()</pre></div></div></div></div></div>"
      ],
      "text/plain": [
       "KNeighborsClassifier()"
      ]
     },
     "execution_count": 38,
     "metadata": {},
     "output_type": "execute_result"
    }
   ],
   "source": [
    "knn.fit(X_train,Y_train)"
   ]
  },
  {
   "cell_type": "code",
   "execution_count": 39,
   "id": "c0150c5b",
   "metadata": {},
   "outputs": [],
   "source": [
    "Y_pred3=knn.predict(X_test)"
   ]
  },
  {
   "cell_type": "code",
   "execution_count": 40,
   "id": "23b2a623",
   "metadata": {},
   "outputs": [
    {
     "data": {
      "text/plain": [
       "0.8688524590163934"
      ]
     },
     "execution_count": 40,
     "metadata": {},
     "output_type": "execute_result"
    }
   ],
   "source": [
    "accuracy_score(Y_test,Y_pred3)"
   ]
  },
  {
   "cell_type": "code",
   "execution_count": 41,
   "id": "58dcf073",
   "metadata": {},
   "outputs": [],
   "source": [
    "score = []\n",
    "\n",
    "for k in range(1,40):\n",
    "    knn=KNeighborsClassifier(n_neighbors=k)\n",
    "    knn.fit(X_train,Y_train)\n",
    "    Y_pred=knn.predict(X_test)\n",
    "    score.append(accuracy_score(Y_test,Y_pred))"
   ]
  },
  {
   "cell_type": "code",
   "execution_count": 42,
   "id": "be0e4273",
   "metadata": {},
   "outputs": [
    {
     "data": {
      "text/plain": [
       "[0.8032786885245902,\n",
       " 0.8688524590163934,\n",
       " 0.8852459016393442,\n",
       " 0.8360655737704918,\n",
       " 0.8688524590163934,\n",
       " 0.8524590163934426,\n",
       " 0.8360655737704918,\n",
       " 0.8688524590163934,\n",
       " 0.8524590163934426,\n",
       " 0.8688524590163934,\n",
       " 0.8688524590163934,\n",
       " 0.8852459016393442,\n",
       " 0.8688524590163934,\n",
       " 0.9016393442622951,\n",
       " 0.8852459016393442,\n",
       " 0.8852459016393442,\n",
       " 0.8852459016393442,\n",
       " 0.8688524590163934,\n",
       " 0.8852459016393442,\n",
       " 0.8688524590163934,\n",
       " 0.8688524590163934,\n",
       " 0.8688524590163934,\n",
       " 0.8688524590163934,\n",
       " 0.8688524590163934,\n",
       " 0.8852459016393442,\n",
       " 0.8852459016393442,\n",
       " 0.8688524590163934,\n",
       " 0.8688524590163934,\n",
       " 0.8688524590163934,\n",
       " 0.8688524590163934,\n",
       " 0.8688524590163934,\n",
       " 0.8688524590163934,\n",
       " 0.8688524590163934,\n",
       " 0.8688524590163934,\n",
       " 0.8688524590163934,\n",
       " 0.8524590163934426,\n",
       " 0.8524590163934426,\n",
       " 0.8524590163934426,\n",
       " 0.8524590163934426]"
      ]
     },
     "execution_count": 42,
     "metadata": {},
     "output_type": "execute_result"
    }
   ],
   "source": [
    "score"
   ]
  },
  {
   "attachments": {},
   "cell_type": "markdown",
   "id": "47713772",
   "metadata": {},
   "source": [
    "using matplotlib"
   ]
  },
  {
   "cell_type": "code",
   "execution_count": 43,
   "id": "9bb77116",
   "metadata": {},
   "outputs": [],
   "source": [
    "import matplotlib.pyplot as plt"
   ]
  },
  {
   "cell_type": "code",
   "execution_count": 44,
   "id": "3aec4f6e",
   "metadata": {},
   "outputs": [
    {
     "data": {
      "image/png": "[encoded data removed]",
      "text/plain": [
       "<Figure size 640x480 with 1 Axes>"
      ]
     },
     "metadata": {},
     "output_type": "display_data"
    }
   ],
   "source": [
    "plt.plot(score)\n",
    "plt.xlabel(\"K Value\")\n",
    "plt.ylabel(\"Acc\")\n",
    "plt.show()"
   ]
  },
  {
   "attachments": {},
   "cell_type": "markdown",
   "id": "6ab6477c",
   "metadata": {},
   "source": [
    "putting value 2 in place of k to check better accuracy"
   ]
  },
  {
   "cell_type": "code",
   "execution_count": 45,
   "id": "617e2130",
   "metadata": {},
   "outputs": [
    {
     "data": {
      "text/plain": [
       "0.8688524590163934"
      ]
     },
     "execution_count": 45,
     "metadata": {},
     "output_type": "execute_result"
    }
   ],
   "source": [
    "knn=KNeighborsClassifier(n_neighbors=2) \n",
    "knn.fit(X_train,Y_train)\n",
    "Y_pred=knn.predict(X_test)\n",
    "accuracy_score(Y_test,Y_pred)"
   ]
  },
  {
   "cell_type": "code",
   "execution_count": 46,
   "id": "0dc5ee76",
   "metadata": {},
   "outputs": [
    {
     "name": "stdout",
     "output_type": "stream",
     "text": [
      "<class 'pandas.core.frame.DataFrame'>\n",
      "Int64Index: 302 entries, 0 to 302\n",
      "Data columns (total 14 columns):\n",
      " #   Column    Non-Null Count  Dtype  \n",
      "---  ------    --------------  -----  \n",
      " 0   age       302 non-null    float64\n",
      " 1   sex       302 non-null    int64  \n",
      " 2   cp        302 non-null    int64  \n",
      " 3   trestbps  302 non-null    float64\n",
      " 4   chol      302 non-null    float64\n",
      " 5   fbs       302 non-null    int64  \n",
      " 6   restecg   302 non-null    int64  \n",
      " 7   thalach   302 non-null    float64\n",
      " 8   exang     302 non-null    int64  \n",
      " 9   oldpeak   302 non-null    float64\n",
      " 10  slope     302 non-null    int64  \n",
      " 11  ca        302 non-null    int64  \n",
      " 12  thal      302 non-null    int64  \n",
      " 13  target    302 non-null    int64  \n",
      "dtypes: float64(5), int64(9)\n",
      "memory usage: 35.4 KB\n"
     ]
    }
   ],
   "source": [
    "data.info()"
   ]
  },
  {
   "attachments": {},
   "cell_type": "markdown",
   "id": "81e06e0e",
   "metadata": {},
   "source": [
    "for removing duplicate values after training the set"
   ]
  },
  {
   "cell_type": "code",
   "execution_count": 47,
   "id": "bb6a3668",
   "metadata": {},
   "outputs": [],
   "source": [
    "data = pd.read_csv('dataset.csv')"
   ]
  },
  {
   "cell_type": "code",
   "execution_count": 48,
   "id": "0f190848",
   "metadata": {},
   "outputs": [
    {
     "data": {
      "text/html": [
       "<div>\n",
       "<style scoped>\n",
       "    .dataframe tbody tr th:only-of-type {\n",
       "        vertical-align: middle;\n",
       "    }\n",
       "\n",
       "    .dataframe tbody tr th {\n",
       "        vertical-align: top;\n",
       "    }\n",
       "\n",
       "    .dataframe thead th {\n",
       "        text-align: right;\n",
       "    }\n",
       "</style>\n",
       "<table border=\"1\" class=\"dataframe\">\n",
       "  <thead>\n",
       "    <tr style=\"text-align: right;\">\n",
       "      <th></th>\n",
       "      <th>age</th>\n",
       "      <th>sex</th>\n",
       "      <th>cp</th>\n",
       "      <th>trestbps</th>\n",
       "      <th>chol</th>\n",
       "      <th>fbs</th>\n",
       "      <th>restecg</th>\n",
       "      <th>thalach</th>\n",
       "      <th>exang</th>\n",
       "      <th>oldpeak</th>\n",
       "      <th>slope</th>\n",
       "      <th>ca</th>\n",
       "      <th>thal</th>\n",
       "      <th>target</th>\n",
       "    </tr>\n",
       "  </thead>\n",
       "  <tbody>\n",
       "    <tr>\n",
       "      <th>0</th>\n",
       "      <td>63</td>\n",
       "      <td>1</td>\n",
       "      <td>3</td>\n",
       "      <td>145</td>\n",
       "      <td>233</td>\n",
       "      <td>1</td>\n",
       "      <td>0</td>\n",
       "      <td>150</td>\n",
       "      <td>0</td>\n",
       "      <td>2.3</td>\n",
       "      <td>0</td>\n",
       "      <td>0</td>\n",
       "      <td>1</td>\n",
       "      <td>1</td>\n",
       "    </tr>\n",
       "    <tr>\n",
       "      <th>1</th>\n",
       "      <td>37</td>\n",
       "      <td>1</td>\n",
       "      <td>2</td>\n",
       "      <td>130</td>\n",
       "      <td>250</td>\n",
       "      <td>0</td>\n",
       "      <td>1</td>\n",
       "      <td>187</td>\n",
       "      <td>0</td>\n",
       "      <td>3.5</td>\n",
       "      <td>0</td>\n",
       "      <td>0</td>\n",
       "      <td>2</td>\n",
       "      <td>1</td>\n",
       "    </tr>\n",
       "    <tr>\n",
       "      <th>2</th>\n",
       "      <td>41</td>\n",
       "      <td>0</td>\n",
       "      <td>1</td>\n",
       "      <td>130</td>\n",
       "      <td>204</td>\n",
       "      <td>0</td>\n",
       "      <td>0</td>\n",
       "      <td>172</td>\n",
       "      <td>0</td>\n",
       "      <td>1.4</td>\n",
       "      <td>2</td>\n",
       "      <td>0</td>\n",
       "      <td>2</td>\n",
       "      <td>1</td>\n",
       "    </tr>\n",
       "    <tr>\n",
       "      <th>3</th>\n",
       "      <td>56</td>\n",
       "      <td>1</td>\n",
       "      <td>1</td>\n",
       "      <td>120</td>\n",
       "      <td>236</td>\n",
       "      <td>0</td>\n",
       "      <td>1</td>\n",
       "      <td>178</td>\n",
       "      <td>0</td>\n",
       "      <td>0.8</td>\n",
       "      <td>2</td>\n",
       "      <td>0</td>\n",
       "      <td>2</td>\n",
       "      <td>1</td>\n",
       "    </tr>\n",
       "    <tr>\n",
       "      <th>4</th>\n",
       "      <td>57</td>\n",
       "      <td>0</td>\n",
       "      <td>0</td>\n",
       "      <td>120</td>\n",
       "      <td>354</td>\n",
       "      <td>0</td>\n",
       "      <td>1</td>\n",
       "      <td>163</td>\n",
       "      <td>1</td>\n",
       "      <td>0.6</td>\n",
       "      <td>2</td>\n",
       "      <td>0</td>\n",
       "      <td>2</td>\n",
       "      <td>1</td>\n",
       "    </tr>\n",
       "  </tbody>\n",
       "</table>\n",
       "</div>"
      ],
      "text/plain": [
       "   age  sex  cp  trestbps  chol  fbs  restecg  thalach  exang  oldpeak  slope  \\\n",
       "0   63    1   3       145   233    1        0      150      0      2.3      0   \n",
       "1   37    1   2       130   250    0        1      187      0      3.5      0   \n",
       "2   41    0   1       130   204    0        0      172      0      1.4      2   \n",
       "3   56    1   1       120   236    0        1      178      0      0.8      2   \n",
       "4   57    0   0       120   354    0        1      163      1      0.6      2   \n",
       "\n",
       "   ca  thal  target  \n",
       "0   0     1       1  \n",
       "1   0     2       1  \n",
       "2   0     2       1  \n",
       "3   0     2       1  \n",
       "4   0     2       1  "
      ]
     },
     "execution_count": 48,
     "metadata": {},
     "output_type": "execute_result"
    }
   ],
   "source": [
    "data.head()"
   ]
  },
  {
   "cell_type": "code",
   "execution_count": 49,
   "id": "b27cd9cd",
   "metadata": {},
   "outputs": [],
   "source": [
    "data = data.drop_duplicates()"
   ]
  },
  {
   "cell_type": "code",
   "execution_count": 50,
   "id": "02133706",
   "metadata": {},
   "outputs": [
    {
     "data": {
      "text/plain": [
       "(302, 14)"
      ]
     },
     "execution_count": 50,
     "metadata": {},
     "output_type": "execute_result"
    }
   ],
   "source": [
    "data.shape"
   ]
  },
  {
   "cell_type": "code",
   "execution_count": 51,
   "id": "24e88c17",
   "metadata": {},
   "outputs": [],
   "source": [
    "X = data.drop('target',axis=1)\n",
    "Y =  data['target']"
   ]
  },
  {
   "cell_type": "code",
   "execution_count": 52,
   "id": "17c80b1c",
   "metadata": {},
   "outputs": [],
   "source": [
    "X_train, X_test, Y_train, Y_test=train_test_split(X,Y,test_size=0.2,random_state=42)"
   ]
  },
  {
   "attachments": {},
   "cell_type": "markdown",
   "id": "6cf38dff",
   "metadata": {},
   "source": [
    "decision tree classifer"
   ]
  },
  {
   "cell_type": "code",
   "execution_count": 53,
   "id": "17f43fc3",
   "metadata": {},
   "outputs": [],
   "source": [
    "from sklearn.tree import DecisionTreeClassifier"
   ]
  },
  {
   "cell_type": "code",
   "execution_count": 54,
   "id": "e1c0015b",
   "metadata": {},
   "outputs": [],
   "source": [
    "dt = DecisionTreeClassifier()"
   ]
  },
  {
   "cell_type": "code",
   "execution_count": 55,
   "id": "f7d1e9ad",
   "metadata": {},
   "outputs": [
    {
     "data": {
      "text/html": [
       "<style>#sk-container-id-4 {color: black;background-color: white;}#sk-container-id-4 pre{padding: 0;}#sk-container-id-4 div.sk-toggleable {background-color: white;}#sk-container-id-4 label.sk-toggleable__label {cursor: pointer;display: block;width: 100%;margin-bottom: 0;padding: 0.3em;box-sizing: border-box;text-align: center;}#sk-container-id-4 label.sk-toggleable__label-arrow:before {content: \"▸\";float: left;margin-right: 0.25em;color: #696969;}#sk-container-id-4 label.sk-toggleable__label-arrow:hover:before {color: black;}#sk-container-id-4 div.sk-estimator:hover label.sk-toggleable__label-arrow:before {color: black;}#sk-container-id-4 div.sk-toggleable__content {max-height: 0;max-width: 0;overflow: hidden;text-align: left;background-color: #f0f8ff;}#sk-container-id-4 div.sk-toggleable__content pre {margin: 0.2em;color: black;border-radius: 0.25em;background-color: #f0f8ff;}#sk-container-id-4 input.sk-toggleable__control:checked~div.sk-toggleable__content {max-height: 200px;max-width: 100%;overflow: auto;}#sk-container-id-4 input.sk-toggleable__control:checked~label.sk-toggleable__label-arrow:before {content: \"▾\";}#sk-container-id-4 div.sk-estimator input.sk-toggleable__control:checked~label.sk-toggleable__label {background-color: #d4ebff;}#sk-container-id-4 div.sk-label input.sk-toggleable__control:checked~label.sk-toggleable__label {background-color: #d4ebff;}#sk-container-id-4 input.sk-hidden--visually {border: 0;clip: rect(1px 1px 1px 1px);clip: rect(1px, 1px, 1px, 1px);height: 1px;margin: -1px;overflow: hidden;padding: 0;position: absolute;width: 1px;}#sk-container-id-4 div.sk-estimator {font-family: monospace;background-color: #f0f8ff;border: 1px dotted black;border-radius: 0.25em;box-sizing: border-box;margin-bottom: 0.5em;}#sk-container-id-4 div.sk-estimator:hover {background-color: #d4ebff;}#sk-container-id-4 div.sk-parallel-item::after {content: \"\";width: 100%;border-bottom: 1px solid gray;flex-grow: 1;}#sk-container-id-4 div.sk-label:hover label.sk-toggleable__label {background-color: #d4ebff;}#sk-container-id-4 div.sk-serial::before {content: \"\";position: absolute;border-left: 1px solid gray;box-sizing: border-box;top: 0;bottom: 0;left: 50%;z-index: 0;}#sk-container-id-4 div.sk-serial {display: flex;flex-direction: column;align-items: center;background-color: white;padding-right: 0.2em;padding-left: 0.2em;position: relative;}#sk-container-id-4 div.sk-item {position: relative;z-index: 1;}#sk-container-id-4 div.sk-parallel {display: flex;align-items: stretch;justify-content: center;background-color: white;position: relative;}#sk-container-id-4 div.sk-item::before, #sk-container-id-4 div.sk-parallel-item::before {content: \"\";position: absolute;border-left: 1px solid gray;box-sizing: border-box;top: 0;bottom: 0;left: 50%;z-index: -1;}#sk-container-id-4 div.sk-parallel-item {display: flex;flex-direction: column;z-index: 1;position: relative;background-color: white;}#sk-container-id-4 div.sk-parallel-item:first-child::after {align-self: flex-end;width: 50%;}#sk-container-id-4 div.sk-parallel-item:last-child::after {align-self: flex-start;width: 50%;}#sk-container-id-4 div.sk-parallel-item:only-child::after {width: 0;}#sk-container-id-4 div.sk-dashed-wrapped {border: 1px dashed gray;margin: 0 0.4em 0.5em 0.4em;box-sizing: border-box;padding-bottom: 0.4em;background-color: white;}#sk-container-id-4 div.sk-label label {font-family: monospace;font-weight: bold;display: inline-block;line-height: 1.2em;}#sk-container-id-4 div.sk-label-container {text-align: center;}#sk-container-id-4 div.sk-container {/* jupyter's `normalize.less` sets `[hidden] { display: none; }` but bootstrap.min.css set `[hidden] { display: none !important; }` so we also need the `!important` here to be able to override the default hidden behavior on the sphinx rendered scikit-learn.org. See: https://github.com/scikit-learn/scikit-learn/issues/21755 */display: inline-block !important;position: relative;}#sk-container-id-4 div.sk-text-repr-fallback {display: none;}</style><div id=\"sk-container-id-4\" class=\"sk-top-container\"><div class=\"sk-text-repr-fallback\"><pre>DecisionTreeClassifier()</pre><b>In a Jupyter environment, please rerun this cell to show the HTML representation or trust the notebook. <br />On GitHub, the HTML representation is unable to render, please try loading this page with nbviewer.org.</b></div><div class=\"sk-container\" hidden><div class=\"sk-item\"><div class=\"sk-estimator sk-toggleable\"><input class=\"sk-toggleable__control sk-hidden--visually\" id=\"sk-estimator-id-4\" type=\"checkbox\" checked><label for=\"sk-estimator-id-4\" class=\"sk-toggleable__label sk-toggleable__label-arrow\">DecisionTreeClassifier</label><div class=\"sk-toggleable__content\"><pre>DecisionTreeClassifier()</pre></div></div></div></div></div>"
      ],
      "text/plain": [
       "DecisionTreeClassifier()"
      ]
     },
     "execution_count": 55,
     "metadata": {},
     "output_type": "execute_result"
    }
   ],
   "source": [
    "dt.fit(X_train,Y_train)"
   ]
  },
  {
   "cell_type": "code",
   "execution_count": 56,
   "id": "9a139257",
   "metadata": {},
   "outputs": [],
   "source": [
    "Y_pred4 = dt.predict(X_test)"
   ]
  },
  {
   "cell_type": "code",
   "execution_count": 57,
   "id": "9d54d3ca",
   "metadata": {},
   "outputs": [
    {
     "data": {
      "text/plain": [
       "0.7868852459016393"
      ]
     },
     "execution_count": 57,
     "metadata": {},
     "output_type": "execute_result"
    }
   ],
   "source": [
    "accuracy_score(Y_test,Y_pred4)"
   ]
  },
  {
   "attachments": {},
   "cell_type": "markdown",
   "id": "e0f6224f",
   "metadata": {},
   "source": [
    "using random forest classifer"
   ]
  },
  {
   "cell_type": "code",
   "execution_count": 58,
   "id": "56743d59",
   "metadata": {},
   "outputs": [],
   "source": [
    "from sklearn.ensemble import RandomForestClassifier"
   ]
  },
  {
   "cell_type": "code",
   "execution_count": 59,
   "id": "70605b64",
   "metadata": {},
   "outputs": [],
   "source": [
    "rf =  RandomForestClassifier()"
   ]
  },
  {
   "cell_type": "code",
   "execution_count": 60,
   "id": "60f1f06a",
   "metadata": {},
   "outputs": [
    {
     "data": {
      "text/html": [
       "<style>#sk-container-id-5 {color: black;background-color: white;}#sk-container-id-5 pre{padding: 0;}#sk-container-id-5 div.sk-toggleable {background-color: white;}#sk-container-id-5 label.sk-toggleable__label {cursor: pointer;display: block;width: 100%;margin-bottom: 0;padding: 0.3em;box-sizing: border-box;text-align: center;}#sk-container-id-5 label.sk-toggleable__label-arrow:before {content: \"▸\";float: left;margin-right: 0.25em;color: #696969;}#sk-container-id-5 label.sk-toggleable__label-arrow:hover:before {color: black;}#sk-container-id-5 div.sk-estimator:hover label.sk-toggleable__label-arrow:before {color: black;}#sk-container-id-5 div.sk-toggleable__content {max-height: 0;max-width: 0;overflow: hidden;text-align: left;background-color: #f0f8ff;}#sk-container-id-5 div.sk-toggleable__content pre {margin: 0.2em;color: black;border-radius: 0.25em;background-color: #f0f8ff;}#sk-container-id-5 input.sk-toggleable__control:checked~div.sk-toggleable__content {max-height: 200px;max-width: 100%;overflow: auto;}#sk-container-id-5 input.sk-toggleable__control:checked~label.sk-toggleable__label-arrow:before {content: \"▾\";}#sk-container-id-5 div.sk-estimator input.sk-toggleable__control:checked~label.sk-toggleable__label {background-color: #d4ebff;}#sk-container-id-5 div.sk-label input.sk-toggleable__control:checked~label.sk-toggleable__label {background-color: #d4ebff;}#sk-container-id-5 input.sk-hidden--visually {border: 0;clip: rect(1px 1px 1px 1px);clip: rect(1px, 1px, 1px, 1px);height: 1px;margin: -1px;overflow: hidden;padding: 0;position: absolute;width: 1px;}#sk-container-id-5 div.sk-estimator {font-family: monospace;background-color: #f0f8ff;border: 1px dotted black;border-radius: 0.25em;box-sizing: border-box;margin-bottom: 0.5em;}#sk-container-id-5 div.sk-estimator:hover {background-color: #d4ebff;}#sk-container-id-5 div.sk-parallel-item::after {content: \"\";width: 100%;border-bottom: 1px solid gray;flex-grow: 1;}#sk-container-id-5 div.sk-label:hover label.sk-toggleable__label {background-color: #d4ebff;}#sk-container-id-5 div.sk-serial::before {content: \"\";position: absolute;border-left: 1px solid gray;box-sizing: border-box;top: 0;bottom: 0;left: 50%;z-index: 0;}#sk-container-id-5 div.sk-serial {display: flex;flex-direction: column;align-items: center;background-color: white;padding-right: 0.2em;padding-left: 0.2em;position: relative;}#sk-container-id-5 div.sk-item {position: relative;z-index: 1;}#sk-container-id-5 div.sk-parallel {display: flex;align-items: stretch;justify-content: center;background-color: white;position: relative;}#sk-container-id-5 div.sk-item::before, #sk-container-id-5 div.sk-parallel-item::before {content: \"\";position: absolute;border-left: 1px solid gray;box-sizing: border-box;top: 0;bottom: 0;left: 50%;z-index: -1;}#sk-container-id-5 div.sk-parallel-item {display: flex;flex-direction: column;z-index: 1;position: relative;background-color: white;}#sk-container-id-5 div.sk-parallel-item:first-child::after {align-self: flex-end;width: 50%;}#sk-container-id-5 div.sk-parallel-item:last-child::after {align-self: flex-start;width: 50%;}#sk-container-id-5 div.sk-parallel-item:only-child::after {width: 0;}#sk-container-id-5 div.sk-dashed-wrapped {border: 1px dashed gray;margin: 0 0.4em 0.5em 0.4em;box-sizing: border-box;padding-bottom: 0.4em;background-color: white;}#sk-container-id-5 div.sk-label label {font-family: monospace;font-weight: bold;display: inline-block;line-height: 1.2em;}#sk-container-id-5 div.sk-label-container {text-align: center;}#sk-container-id-5 div.sk-container {/* jupyter's `normalize.less` sets `[hidden] { display: none; }` but bootstrap.min.css set `[hidden] { display: none !important; }` so we also need the `!important` here to be able to override the default hidden behavior on the sphinx rendered scikit-learn.org. See: https://github.com/scikit-learn/scikit-learn/issues/21755 */display: inline-block !important;position: relative;}#sk-container-id-5 div.sk-text-repr-fallback {display: none;}</style><div id=\"sk-container-id-5\" class=\"sk-top-container\"><div class=\"sk-text-repr-fallback\"><pre>RandomForestClassifier()</pre><b>In a Jupyter environment, please rerun this cell to show the HTML representation or trust the notebook. <br />On GitHub, the HTML representation is unable to render, please try loading this page with nbviewer.org.</b></div><div class=\"sk-container\" hidden><div class=\"sk-item\"><div class=\"sk-estimator sk-toggleable\"><input class=\"sk-toggleable__control sk-hidden--visually\" id=\"sk-estimator-id-5\" type=\"checkbox\" checked><label for=\"sk-estimator-id-5\" class=\"sk-toggleable__label sk-toggleable__label-arrow\">RandomForestClassifier</label><div class=\"sk-toggleable__content\"><pre>RandomForestClassifier()</pre></div></div></div></div></div>"
      ],
      "text/plain": [
       "RandomForestClassifier()"
      ]
     },
     "execution_count": 60,
     "metadata": {},
     "output_type": "execute_result"
    }
   ],
   "source": [
    "rf.fit(X_train,Y_train)"
   ]
  },
  {
   "cell_type": "code",
   "execution_count": 61,
   "id": "922604a6",
   "metadata": {},
   "outputs": [],
   "source": [
    "Y_pred5= rf.predict(X_test)"
   ]
  },
  {
   "cell_type": "code",
   "execution_count": 62,
   "id": "c31e45cd",
   "metadata": {},
   "outputs": [
    {
     "data": {
      "text/plain": [
       "0.8688524590163934"
      ]
     },
     "execution_count": 62,
     "metadata": {},
     "output_type": "execute_result"
    }
   ],
   "source": [
    "accuracy_score(Y_test,Y_pred5)"
   ]
  },
  {
   "attachments": {},
   "cell_type": "markdown",
   "id": "04bc7365",
   "metadata": {},
   "source": [
    "using gradient boosting classifer"
   ]
  },
  {
   "cell_type": "code",
   "execution_count": 63,
   "id": "8b6d9f78",
   "metadata": {},
   "outputs": [],
   "source": [
    "from sklearn.ensemble import GradientBoostingClassifier"
   ]
  },
  {
   "cell_type": "code",
   "execution_count": 64,
   "id": "033d6bb9",
   "metadata": {},
   "outputs": [],
   "source": [
    "gbc = GradientBoostingClassifier()"
   ]
  },
  {
   "cell_type": "code",
   "execution_count": 65,
   "id": "37714739",
   "metadata": {},
   "outputs": [
    {
     "data": {
      "text/html": [
       "<style>#sk-container-id-6 {color: black;background-color: white;}#sk-container-id-6 pre{padding: 0;}#sk-container-id-6 div.sk-toggleable {background-color: white;}#sk-container-id-6 label.sk-toggleable__label {cursor: pointer;display: block;width: 100%;margin-bottom: 0;padding: 0.3em;box-sizing: border-box;text-align: center;}#sk-container-id-6 label.sk-toggleable__label-arrow:before {content: \"▸\";float: left;margin-right: 0.25em;color: #696969;}#sk-container-id-6 label.sk-toggleable__label-arrow:hover:before {color: black;}#sk-container-id-6 div.sk-estimator:hover label.sk-toggleable__label-arrow:before {color: black;}#sk-container-id-6 div.sk-toggleable__content {max-height: 0;max-width: 0;overflow: hidden;text-align: left;background-color: #f0f8ff;}#sk-container-id-6 div.sk-toggleable__content pre {margin: 0.2em;color: black;border-radius: 0.25em;background-color: #f0f8ff;}#sk-container-id-6 input.sk-toggleable__control:checked~div.sk-toggleable__content {max-height: 200px;max-width: 100%;overflow: auto;}#sk-container-id-6 input.sk-toggleable__control:checked~label.sk-toggleable__label-arrow:before {content: \"▾\";}#sk-container-id-6 div.sk-estimator input.sk-toggleable__control:checked~label.sk-toggleable__label {background-color: #d4ebff;}#sk-container-id-6 div.sk-label input.sk-toggleable__control:checked~label.sk-toggleable__label {background-color: #d4ebff;}#sk-container-id-6 input.sk-hidden--visually {border: 0;clip: rect(1px 1px 1px 1px);clip: rect(1px, 1px, 1px, 1px);height: 1px;margin: -1px;overflow: hidden;padding: 0;position: absolute;width: 1px;}#sk-container-id-6 div.sk-estimator {font-family: monospace;background-color: #f0f8ff;border: 1px dotted black;border-radius: 0.25em;box-sizing: border-box;margin-bottom: 0.5em;}#sk-container-id-6 div.sk-estimator:hover {background-color: #d4ebff;}#sk-container-id-6 div.sk-parallel-item::after {content: \"\";width: 100%;border-bottom: 1px solid gray;flex-grow: 1;}#sk-container-id-6 div.sk-label:hover label.sk-toggleable__label {background-color: #d4ebff;}#sk-container-id-6 div.sk-serial::before {content: \"\";position: absolute;border-left: 1px solid gray;box-sizing: border-box;top: 0;bottom: 0;left: 50%;z-index: 0;}#sk-container-id-6 div.sk-serial {display: flex;flex-direction: column;align-items: center;background-color: white;padding-right: 0.2em;padding-left: 0.2em;position: relative;}#sk-container-id-6 div.sk-item {position: relative;z-index: 1;}#sk-container-id-6 div.sk-parallel {display: flex;align-items: stretch;justify-content: center;background-color: white;position: relative;}#sk-container-id-6 div.sk-item::before, #sk-container-id-6 div.sk-parallel-item::before {content: \"\";position: absolute;border-left: 1px solid gray;box-sizing: border-box;top: 0;bottom: 0;left: 50%;z-index: -1;}#sk-container-id-6 div.sk-parallel-item {display: flex;flex-direction: column;z-index: 1;position: relative;background-color: white;}#sk-container-id-6 div.sk-parallel-item:first-child::after {align-self: flex-end;width: 50%;}#sk-container-id-6 div.sk-parallel-item:last-child::after {align-self: flex-start;width: 50%;}#sk-container-id-6 div.sk-parallel-item:only-child::after {width: 0;}#sk-container-id-6 div.sk-dashed-wrapped {border: 1px dashed gray;margin: 0 0.4em 0.5em 0.4em;box-sizing: border-box;padding-bottom: 0.4em;background-color: white;}#sk-container-id-6 div.sk-label label {font-family: monospace;font-weight: bold;display: inline-block;line-height: 1.2em;}#sk-container-id-6 div.sk-label-container {text-align: center;}#sk-container-id-6 div.sk-container {/* jupyter's `normalize.less` sets `[hidden] { display: none; }` but bootstrap.min.css set `[hidden] { display: none !important; }` so we also need the `!important` here to be able to override the default hidden behavior on the sphinx rendered scikit-learn.org. See: https://github.com/scikit-learn/scikit-learn/issues/21755 */display: inline-block !important;position: relative;}#sk-container-id-6 div.sk-text-repr-fallback {display: none;}</style><div id=\"sk-container-id-6\" class=\"sk-top-container\"><div class=\"sk-text-repr-fallback\"><pre>GradientBoostingClassifier()</pre><b>In a Jupyter environment, please rerun this cell to show the HTML representation or trust the notebook. <br />On GitHub, the HTML representation is unable to render, please try loading this page with nbviewer.org.</b></div><div class=\"sk-container\" hidden><div class=\"sk-item\"><div class=\"sk-estimator sk-toggleable\"><input class=\"sk-toggleable__control sk-hidden--visually\" id=\"sk-estimator-id-6\" type=\"checkbox\" checked><label for=\"sk-estimator-id-6\" class=\"sk-toggleable__label sk-toggleable__label-arrow\">GradientBoostingClassifier</label><div class=\"sk-toggleable__content\"><pre>GradientBoostingClassifier()</pre></div></div></div></div></div>"
      ],
      "text/plain": [
       "GradientBoostingClassifier()"
      ]
     },
     "execution_count": 65,
     "metadata": {},
     "output_type": "execute_result"
    }
   ],
   "source": [
    "gbc.fit(X_train,Y_train)"
   ]
  },
  {
   "cell_type": "code",
   "execution_count": 66,
   "id": "b2d59f3d",
   "metadata": {},
   "outputs": [],
   "source": [
    "Y_pred6 = gbc.predict(X_test)"
   ]
  },
  {
   "cell_type": "code",
   "execution_count": 67,
   "id": "5828e5d9",
   "metadata": {},
   "outputs": [
    {
     "data": {
      "text/plain": [
       "0.8524590163934426"
      ]
     },
     "execution_count": 67,
     "metadata": {},
     "output_type": "execute_result"
    }
   ],
   "source": [
    "accuracy_score(Y_test,Y_pred6)"
   ]
  },
  {
   "attachments": {},
   "cell_type": "markdown",
   "id": "27a1f889",
   "metadata": {},
   "source": [
    "making dataframe by using pandas FOR accuracy test\n"
   ]
  },
  {
   "cell_type": "code",
   "execution_count": 68,
   "id": "c397e621",
   "metadata": {},
   "outputs": [],
   "source": [
    "import pandas as pd\n",
    "\n",
    "final_data = pd.DataFrame({'Models':['LR','SVM','KNN','DT','RF','GB'],\n",
    "                           'ACC': [accuracy_score(Y_test,Y_pred1),\n",
    "                                   accuracy_score(Y_test,Y_pred2),\n",
    "                                   accuracy_score(Y_test,Y_pred3),\n",
    "                                   accuracy_score(Y_test,Y_pred4),\n",
    "                                   accuracy_score(Y_test,Y_pred5),\n",
    "                                   accuracy_score(Y_test,Y_pred6)]})\n"
   ]
  },
  {
   "cell_type": "code",
   "execution_count": 69,
   "id": "691515d9",
   "metadata": {},
   "outputs": [
    {
     "data": {
      "text/html": [
       "<div>\n",
       "<style scoped>\n",
       "    .dataframe tbody tr th:only-of-type {\n",
       "        vertical-align: middle;\n",
       "    }\n",
       "\n",
       "    .dataframe tbody tr th {\n",
       "        vertical-align: top;\n",
       "    }\n",
       "\n",
       "    .dataframe thead th {\n",
       "        text-align: right;\n",
       "    }\n",
       "</style>\n",
       "<table border=\"1\" class=\"dataframe\">\n",
       "  <thead>\n",
       "    <tr style=\"text-align: right;\">\n",
       "      <th></th>\n",
       "      <th>Models</th>\n",
       "      <th>ACC</th>\n",
       "    </tr>\n",
       "  </thead>\n",
       "  <tbody>\n",
       "    <tr>\n",
       "      <th>0</th>\n",
       "      <td>LR</td>\n",
       "      <td>0.836066</td>\n",
       "    </tr>\n",
       "    <tr>\n",
       "      <th>1</th>\n",
       "      <td>SVM</td>\n",
       "      <td>0.885246</td>\n",
       "    </tr>\n",
       "    <tr>\n",
       "      <th>2</th>\n",
       "      <td>KNN</td>\n",
       "      <td>0.868852</td>\n",
       "    </tr>\n",
       "    <tr>\n",
       "      <th>3</th>\n",
       "      <td>DT</td>\n",
       "      <td>0.786885</td>\n",
       "    </tr>\n",
       "    <tr>\n",
       "      <th>4</th>\n",
       "      <td>RF</td>\n",
       "      <td>0.868852</td>\n",
       "    </tr>\n",
       "    <tr>\n",
       "      <th>5</th>\n",
       "      <td>GB</td>\n",
       "      <td>0.852459</td>\n",
       "    </tr>\n",
       "  </tbody>\n",
       "</table>\n",
       "</div>"
      ],
      "text/plain": [
       "  Models       ACC\n",
       "0     LR  0.836066\n",
       "1    SVM  0.885246\n",
       "2    KNN  0.868852\n",
       "3     DT  0.786885\n",
       "4     RF  0.868852\n",
       "5     GB  0.852459"
      ]
     },
     "execution_count": 69,
     "metadata": {},
     "output_type": "execute_result"
    }
   ],
   "source": [
    "final_data"
   ]
  },
  {
   "cell_type": "code",
   "execution_count": 70,
   "id": "933f01c9",
   "metadata": {},
   "outputs": [
    {
     "data": {
      "text/html": [
       "<div>\n",
       "<style scoped>\n",
       "    .dataframe tbody tr th:only-of-type {\n",
       "        vertical-align: middle;\n",
       "    }\n",
       "\n",
       "    .dataframe tbody tr th {\n",
       "        vertical-align: top;\n",
       "    }\n",
       "\n",
       "    .dataframe thead th {\n",
       "        text-align: right;\n",
       "    }\n",
       "</style>\n",
       "<table border=\"1\" class=\"dataframe\">\n",
       "  <thead>\n",
       "    <tr style=\"text-align: right;\">\n",
       "      <th></th>\n",
       "      <th>age</th>\n",
       "      <th>sex</th>\n",
       "      <th>cp</th>\n",
       "      <th>trestbps</th>\n",
       "      <th>chol</th>\n",
       "      <th>fbs</th>\n",
       "      <th>restecg</th>\n",
       "      <th>thalach</th>\n",
       "      <th>exang</th>\n",
       "      <th>oldpeak</th>\n",
       "      <th>slope</th>\n",
       "      <th>ca</th>\n",
       "      <th>thal</th>\n",
       "      <th>target</th>\n",
       "    </tr>\n",
       "  </thead>\n",
       "  <tbody>\n",
       "    <tr>\n",
       "      <th>count</th>\n",
       "      <td>302.00000</td>\n",
       "      <td>302.000000</td>\n",
       "      <td>302.000000</td>\n",
       "      <td>302.000000</td>\n",
       "      <td>302.000000</td>\n",
       "      <td>302.000000</td>\n",
       "      <td>302.000000</td>\n",
       "      <td>302.000000</td>\n",
       "      <td>302.000000</td>\n",
       "      <td>302.000000</td>\n",
       "      <td>302.000000</td>\n",
       "      <td>302.000000</td>\n",
       "      <td>302.000000</td>\n",
       "      <td>302.000000</td>\n",
       "    </tr>\n",
       "    <tr>\n",
       "      <th>mean</th>\n",
       "      <td>54.42053</td>\n",
       "      <td>0.682119</td>\n",
       "      <td>0.963576</td>\n",
       "      <td>131.602649</td>\n",
       "      <td>246.500000</td>\n",
       "      <td>0.149007</td>\n",
       "      <td>0.526490</td>\n",
       "      <td>149.569536</td>\n",
       "      <td>0.327815</td>\n",
       "      <td>1.043046</td>\n",
       "      <td>1.397351</td>\n",
       "      <td>0.718543</td>\n",
       "      <td>2.314570</td>\n",
       "      <td>0.543046</td>\n",
       "    </tr>\n",
       "    <tr>\n",
       "      <th>std</th>\n",
       "      <td>9.04797</td>\n",
       "      <td>0.466426</td>\n",
       "      <td>1.032044</td>\n",
       "      <td>17.563394</td>\n",
       "      <td>51.753489</td>\n",
       "      <td>0.356686</td>\n",
       "      <td>0.526027</td>\n",
       "      <td>22.903527</td>\n",
       "      <td>0.470196</td>\n",
       "      <td>1.161452</td>\n",
       "      <td>0.616274</td>\n",
       "      <td>1.006748</td>\n",
       "      <td>0.613026</td>\n",
       "      <td>0.498970</td>\n",
       "    </tr>\n",
       "    <tr>\n",
       "      <th>min</th>\n",
       "      <td>29.00000</td>\n",
       "      <td>0.000000</td>\n",
       "      <td>0.000000</td>\n",
       "      <td>94.000000</td>\n",
       "      <td>126.000000</td>\n",
       "      <td>0.000000</td>\n",
       "      <td>0.000000</td>\n",
       "      <td>71.000000</td>\n",
       "      <td>0.000000</td>\n",
       "      <td>0.000000</td>\n",
       "      <td>0.000000</td>\n",
       "      <td>0.000000</td>\n",
       "      <td>0.000000</td>\n",
       "      <td>0.000000</td>\n",
       "    </tr>\n",
       "    <tr>\n",
       "      <th>25%</th>\n",
       "      <td>48.00000</td>\n",
       "      <td>0.000000</td>\n",
       "      <td>0.000000</td>\n",
       "      <td>120.000000</td>\n",
       "      <td>211.000000</td>\n",
       "      <td>0.000000</td>\n",
       "      <td>0.000000</td>\n",
       "      <td>133.250000</td>\n",
       "      <td>0.000000</td>\n",
       "      <td>0.000000</td>\n",
       "      <td>1.000000</td>\n",
       "      <td>0.000000</td>\n",
       "      <td>2.000000</td>\n",
       "      <td>0.000000</td>\n",
       "    </tr>\n",
       "    <tr>\n",
       "      <th>50%</th>\n",
       "      <td>55.50000</td>\n",
       "      <td>1.000000</td>\n",
       "      <td>1.000000</td>\n",
       "      <td>130.000000</td>\n",
       "      <td>240.500000</td>\n",
       "      <td>0.000000</td>\n",
       "      <td>1.000000</td>\n",
       "      <td>152.500000</td>\n",
       "      <td>0.000000</td>\n",
       "      <td>0.800000</td>\n",
       "      <td>1.000000</td>\n",
       "      <td>0.000000</td>\n",
       "      <td>2.000000</td>\n",
       "      <td>1.000000</td>\n",
       "    </tr>\n",
       "    <tr>\n",
       "      <th>75%</th>\n",
       "      <td>61.00000</td>\n",
       "      <td>1.000000</td>\n",
       "      <td>2.000000</td>\n",
       "      <td>140.000000</td>\n",
       "      <td>274.750000</td>\n",
       "      <td>0.000000</td>\n",
       "      <td>1.000000</td>\n",
       "      <td>166.000000</td>\n",
       "      <td>1.000000</td>\n",
       "      <td>1.600000</td>\n",
       "      <td>2.000000</td>\n",
       "      <td>1.000000</td>\n",
       "      <td>3.000000</td>\n",
       "      <td>1.000000</td>\n",
       "    </tr>\n",
       "    <tr>\n",
       "      <th>max</th>\n",
       "      <td>77.00000</td>\n",
       "      <td>1.000000</td>\n",
       "      <td>3.000000</td>\n",
       "      <td>200.000000</td>\n",
       "      <td>564.000000</td>\n",
       "      <td>1.000000</td>\n",
       "      <td>2.000000</td>\n",
       "      <td>202.000000</td>\n",
       "      <td>1.000000</td>\n",
       "      <td>6.200000</td>\n",
       "      <td>2.000000</td>\n",
       "      <td>4.000000</td>\n",
       "      <td>3.000000</td>\n",
       "      <td>1.000000</td>\n",
       "    </tr>\n",
       "  </tbody>\n",
       "</table>\n",
       "</div>"
      ],
      "text/plain": [
       "             age         sex          cp    trestbps        chol         fbs  \\\n",
       "count  302.00000  302.000000  302.000000  302.000000  302.000000  302.000000   \n",
       "mean    54.42053    0.682119    0.963576  131.602649  246.500000    0.149007   \n",
       "std      9.04797    0.466426    1.032044   17.563394   51.753489    0.356686   \n",
       "min     29.00000    0.000000    0.000000   94.000000  126.000000    0.000000   \n",
       "25%     48.00000    0.000000    0.000000  120.000000  211.000000    0.000000   \n",
       "50%     55.50000    1.000000    1.000000  130.000000  240.500000    0.000000   \n",
       "75%     61.00000    1.000000    2.000000  140.000000  274.750000    0.000000   \n",
       "max     77.00000    1.000000    3.000000  200.000000  564.000000    1.000000   \n",
       "\n",
       "          restecg     thalach       exang     oldpeak       slope          ca  \\\n",
       "count  302.000000  302.000000  302.000000  302.000000  302.000000  302.000000   \n",
       "mean     0.526490  149.569536    0.327815    1.043046    1.397351    0.718543   \n",
       "std      0.526027   22.903527    0.470196    1.161452    0.616274    1.006748   \n",
       "min      0.000000   71.000000    0.000000    0.000000    0.000000    0.000000   \n",
       "25%      0.000000  133.250000    0.000000    0.000000    1.000000    0.000000   \n",
       "50%      1.000000  152.500000    0.000000    0.800000    1.000000    0.000000   \n",
       "75%      1.000000  166.000000    1.000000    1.600000    2.000000    1.000000   \n",
       "max      2.000000  202.000000    1.000000    6.200000    2.000000    4.000000   \n",
       "\n",
       "             thal      target  \n",
       "count  302.000000  302.000000  \n",
       "mean     2.314570    0.543046  \n",
       "std      0.613026    0.498970  \n",
       "min      0.000000    0.000000  \n",
       "25%      2.000000    0.000000  \n",
       "50%      2.000000    1.000000  \n",
       "75%      3.000000    1.000000  \n",
       "max      3.000000    1.000000  "
      ]
     },
     "execution_count": 70,
     "metadata": {},
     "output_type": "execute_result"
    }
   ],
   "source": [
    "data.describe()"
   ]
  },
  {
   "attachments": {},
   "cell_type": "markdown",
   "id": "329fb9ea",
   "metadata": {},
   "source": [
    "using seaborn"
   ]
  },
  {
   "cell_type": "code",
   "execution_count": 71,
   "id": "71873943",
   "metadata": {},
   "outputs": [],
   "source": [
    "import seaborn as sns"
   ]
  },
  {
   "cell_type": "code",
   "execution_count": 72,
   "id": "cb5242d5",
   "metadata": {},
   "outputs": [],
   "source": [
    "X = data.drop('target',axis=1)\n",
    "Y = data['target']"
   ]
  },
  {
   "cell_type": "code",
   "execution_count": 73,
   "id": "a97787f0",
   "metadata": {},
   "outputs": [
    {
     "data": {
      "text/plain": [
       "(302, 13)"
      ]
     },
     "execution_count": 73,
     "metadata": {},
     "output_type": "execute_result"
    }
   ],
   "source": [
    "X.shape"
   ]
  },
  {
   "cell_type": "code",
   "execution_count": 74,
   "id": "1bba9780",
   "metadata": {},
   "outputs": [],
   "source": [
    "from sklearn.ensemble import RandomForestClassifier"
   ]
  },
  {
   "cell_type": "code",
   "execution_count": 75,
   "id": "1ace0383",
   "metadata": {},
   "outputs": [
    {
     "data": {
      "text/html": [
       "<style>#sk-container-id-7 {color: black;background-color: white;}#sk-container-id-7 pre{padding: 0;}#sk-container-id-7 div.sk-toggleable {background-color: white;}#sk-container-id-7 label.sk-toggleable__label {cursor: pointer;display: block;width: 100%;margin-bottom: 0;padding: 0.3em;box-sizing: border-box;text-align: center;}#sk-container-id-7 label.sk-toggleable__label-arrow:before {content: \"▸\";float: left;margin-right: 0.25em;color: #696969;}#sk-container-id-7 label.sk-toggleable__label-arrow:hover:before {color: black;}#sk-container-id-7 div.sk-estimator:hover label.sk-toggleable__label-arrow:before {color: black;}#sk-container-id-7 div.sk-toggleable__content {max-height: 0;max-width: 0;overflow: hidden;text-align: left;background-color: #f0f8ff;}#sk-container-id-7 div.sk-toggleable__content pre {margin: 0.2em;color: black;border-radius: 0.25em;background-color: #f0f8ff;}#sk-container-id-7 input.sk-toggleable__control:checked~div.sk-toggleable__content {max-height: 200px;max-width: 100%;overflow: auto;}#sk-container-id-7 input.sk-toggleable__control:checked~label.sk-toggleable__label-arrow:before {content: \"▾\";}#sk-container-id-7 div.sk-estimator input.sk-toggleable__control:checked~label.sk-toggleable__label {background-color: #d4ebff;}#sk-container-id-7 div.sk-label input.sk-toggleable__control:checked~label.sk-toggleable__label {background-color: #d4ebff;}#sk-container-id-7 input.sk-hidden--visually {border: 0;clip: rect(1px 1px 1px 1px);clip: rect(1px, 1px, 1px, 1px);height: 1px;margin: -1px;overflow: hidden;padding: 0;position: absolute;width: 1px;}#sk-container-id-7 div.sk-estimator {font-family: monospace;background-color: #f0f8ff;border: 1px dotted black;border-radius: 0.25em;box-sizing: border-box;margin-bottom: 0.5em;}#sk-container-id-7 div.sk-estimator:hover {background-color: #d4ebff;}#sk-container-id-7 div.sk-parallel-item::after {content: \"\";width: 100%;border-bottom: 1px solid gray;flex-grow: 1;}#sk-container-id-7 div.sk-label:hover label.sk-toggleable__label {background-color: #d4ebff;}#sk-container-id-7 div.sk-serial::before {content: \"\";position: absolute;border-left: 1px solid gray;box-sizing: border-box;top: 0;bottom: 0;left: 50%;z-index: 0;}#sk-container-id-7 div.sk-serial {display: flex;flex-direction: column;align-items: center;background-color: white;padding-right: 0.2em;padding-left: 0.2em;position: relative;}#sk-container-id-7 div.sk-item {position: relative;z-index: 1;}#sk-container-id-7 div.sk-parallel {display: flex;align-items: stretch;justify-content: center;background-color: white;position: relative;}#sk-container-id-7 div.sk-item::before, #sk-container-id-7 div.sk-parallel-item::before {content: \"\";position: absolute;border-left: 1px solid gray;box-sizing: border-box;top: 0;bottom: 0;left: 50%;z-index: -1;}#sk-container-id-7 div.sk-parallel-item {display: flex;flex-direction: column;z-index: 1;position: relative;background-color: white;}#sk-container-id-7 div.sk-parallel-item:first-child::after {align-self: flex-end;width: 50%;}#sk-container-id-7 div.sk-parallel-item:last-child::after {align-self: flex-start;width: 50%;}#sk-container-id-7 div.sk-parallel-item:only-child::after {width: 0;}#sk-container-id-7 div.sk-dashed-wrapped {border: 1px dashed gray;margin: 0 0.4em 0.5em 0.4em;box-sizing: border-box;padding-bottom: 0.4em;background-color: white;}#sk-container-id-7 div.sk-label label {font-family: monospace;font-weight: bold;display: inline-block;line-height: 1.2em;}#sk-container-id-7 div.sk-label-container {text-align: center;}#sk-container-id-7 div.sk-container {/* jupyter's `normalize.less` sets `[hidden] { display: none; }` but bootstrap.min.css set `[hidden] { display: none !important; }` so we also need the `!important` here to be able to override the default hidden behavior on the sphinx rendered scikit-learn.org. See: https://github.com/scikit-learn/scikit-learn/issues/21755 */display: inline-block !important;position: relative;}#sk-container-id-7 div.sk-text-repr-fallback {display: none;}</style><div id=\"sk-container-id-7\" class=\"sk-top-container\"><div class=\"sk-text-repr-fallback\"><pre>RandomForestClassifier()</pre><b>In a Jupyter environment, please rerun this cell to show the HTML representation or trust the notebook. <br />On GitHub, the HTML representation is unable to render, please try loading this page with nbviewer.org.</b></div><div class=\"sk-container\" hidden><div class=\"sk-item\"><div class=\"sk-estimator sk-toggleable\"><input class=\"sk-toggleable__control sk-hidden--visually\" id=\"sk-estimator-id-7\" type=\"checkbox\" checked><label for=\"sk-estimator-id-7\" class=\"sk-toggleable__label sk-toggleable__label-arrow\">RandomForestClassifier</label><div class=\"sk-toggleable__content\"><pre>RandomForestClassifier()</pre></div></div></div></div></div>"
      ],
      "text/plain": [
       "RandomForestClassifier()"
      ]
     },
     "execution_count": 75,
     "metadata": {},
     "output_type": "execute_result"
    }
   ],
   "source": [
    "rf =  RandomForestClassifier()\n",
    "rf.fit(X,Y)"
   ]
  },
  {
   "attachments": {},
   "cell_type": "markdown",
   "id": "5b3dd024",
   "metadata": {},
   "source": [
    "Heart Disease Frequency per Chest Pain Type"
   ]
  },
  {
   "cell_type": "code",
   "execution_count": 76,
   "id": "71269392",
   "metadata": {},
   "outputs": [
    {
     "data": {
      "text/html": [
       "<div>\n",
       "<style scoped>\n",
       "    .dataframe tbody tr th:only-of-type {\n",
       "        vertical-align: middle;\n",
       "    }\n",
       "\n",
       "    .dataframe tbody tr th {\n",
       "        vertical-align: top;\n",
       "    }\n",
       "\n",
       "    .dataframe thead th {\n",
       "        text-align: right;\n",
       "    }\n",
       "</style>\n",
       "<table border=\"1\" class=\"dataframe\">\n",
       "  <thead>\n",
       "    <tr style=\"text-align: right;\">\n",
       "      <th>target</th>\n",
       "      <th>0</th>\n",
       "      <th>1</th>\n",
       "    </tr>\n",
       "    <tr>\n",
       "      <th>cp</th>\n",
       "      <th></th>\n",
       "      <th></th>\n",
       "    </tr>\n",
       "  </thead>\n",
       "  <tbody>\n",
       "    <tr>\n",
       "      <th>0</th>\n",
       "      <td>104</td>\n",
       "      <td>39</td>\n",
       "    </tr>\n",
       "    <tr>\n",
       "      <th>1</th>\n",
       "      <td>9</td>\n",
       "      <td>41</td>\n",
       "    </tr>\n",
       "    <tr>\n",
       "      <th>2</th>\n",
       "      <td>18</td>\n",
       "      <td>68</td>\n",
       "    </tr>\n",
       "    <tr>\n",
       "      <th>3</th>\n",
       "      <td>7</td>\n",
       "      <td>16</td>\n",
       "    </tr>\n",
       "  </tbody>\n",
       "</table>\n",
       "</div>"
      ],
      "text/plain": [
       "target    0   1\n",
       "cp             \n",
       "0       104  39\n",
       "1         9  41\n",
       "2        18  68\n",
       "3         7  16"
      ]
     },
     "execution_count": 76,
     "metadata": {},
     "output_type": "execute_result"
    }
   ],
   "source": [
    "pd.crosstab(data.cp, data.target)"
   ]
  },
  {
   "cell_type": "code",
   "execution_count": 77,
   "id": "94220934",
   "metadata": {},
   "outputs": [
    {
     "data": {
      "image/png": "[encoded data removed]",
      "text/plain": [
       "<Figure size 1000x600 with 1 Axes>"
      ]
     },
     "metadata": {},
     "output_type": "display_data"
    }
   ],
   "source": [
    "# Create a new crosstab and base plot\n",
    "pd.crosstab(data.cp, data.target).plot(kind=\"bar\", \n",
    "                                   figsize=(10,6), \n",
    "                                   color=[\"darkblue\", \"lightblue\"])\n",
    "\n",
    "# Add attributes to the plot to make it more readable\n",
    "plt.title(\"Heart Disease Frequency Per Chest Pain Type\")\n",
    "plt.xlabel(\"Chest Pain Type\")\n",
    "plt.ylabel(\"Frequency\")\n",
    "plt.legend([\"No Disease\", \"Disease\"])\n",
    "plt.xticks(rotation = 0);"
   ]
  },
  {
   "attachments": {},
   "cell_type": "markdown",
   "id": "a36ee523",
   "metadata": {},
   "source": [
    "Correlation between independent variables \n",
    "using df.corr() which will create a correlation matrix for us or a big table of numbers telling us how related each variable is the other."
   ]
  },
  {
   "cell_type": "code",
   "execution_count": 78,
   "id": "c0a18b18",
   "metadata": {},
   "outputs": [
    {
     "data": {
      "text/html": [
       "<div>\n",
       "<style scoped>\n",
       "    .dataframe tbody tr th:only-of-type {\n",
       "        vertical-align: middle;\n",
       "    }\n",
       "\n",
       "    .dataframe tbody tr th {\n",
       "        vertical-align: top;\n",
       "    }\n",
       "\n",
       "    .dataframe thead th {\n",
       "        text-align: right;\n",
       "    }\n",
       "</style>\n",
       "<table border=\"1\" class=\"dataframe\">\n",
       "  <thead>\n",
       "    <tr style=\"text-align: right;\">\n",
       "      <th></th>\n",
       "      <th>age</th>\n",
       "      <th>sex</th>\n",
       "      <th>cp</th>\n",
       "      <th>trestbps</th>\n",
       "      <th>chol</th>\n",
       "      <th>fbs</th>\n",
       "      <th>restecg</th>\n",
       "      <th>thalach</th>\n",
       "      <th>exang</th>\n",
       "      <th>oldpeak</th>\n",
       "      <th>slope</th>\n",
       "      <th>ca</th>\n",
       "      <th>thal</th>\n",
       "      <th>target</th>\n",
       "    </tr>\n",
       "  </thead>\n",
       "  <tbody>\n",
       "    <tr>\n",
       "      <th>age</th>\n",
       "      <td>1.000000</td>\n",
       "      <td>-0.094962</td>\n",
       "      <td>-0.063107</td>\n",
       "      <td>0.283121</td>\n",
       "      <td>0.207216</td>\n",
       "      <td>0.119492</td>\n",
       "      <td>-0.111590</td>\n",
       "      <td>-0.395235</td>\n",
       "      <td>0.093216</td>\n",
       "      <td>0.206040</td>\n",
       "      <td>-0.164124</td>\n",
       "      <td>0.302261</td>\n",
       "      <td>0.065317</td>\n",
       "      <td>-0.221476</td>\n",
       "    </tr>\n",
       "    <tr>\n",
       "      <th>sex</th>\n",
       "      <td>-0.094962</td>\n",
       "      <td>1.000000</td>\n",
       "      <td>-0.051740</td>\n",
       "      <td>-0.057647</td>\n",
       "      <td>-0.195571</td>\n",
       "      <td>0.046022</td>\n",
       "      <td>-0.060351</td>\n",
       "      <td>-0.046439</td>\n",
       "      <td>0.143460</td>\n",
       "      <td>0.098322</td>\n",
       "      <td>-0.032990</td>\n",
       "      <td>0.113060</td>\n",
       "      <td>0.211452</td>\n",
       "      <td>-0.283609</td>\n",
       "    </tr>\n",
       "    <tr>\n",
       "      <th>cp</th>\n",
       "      <td>-0.063107</td>\n",
       "      <td>-0.051740</td>\n",
       "      <td>1.000000</td>\n",
       "      <td>0.046486</td>\n",
       "      <td>-0.072682</td>\n",
       "      <td>0.096018</td>\n",
       "      <td>0.041561</td>\n",
       "      <td>0.293367</td>\n",
       "      <td>-0.392937</td>\n",
       "      <td>-0.146692</td>\n",
       "      <td>0.116854</td>\n",
       "      <td>-0.195356</td>\n",
       "      <td>-0.160370</td>\n",
       "      <td>0.432080</td>\n",
       "    </tr>\n",
       "    <tr>\n",
       "      <th>trestbps</th>\n",
       "      <td>0.283121</td>\n",
       "      <td>-0.057647</td>\n",
       "      <td>0.046486</td>\n",
       "      <td>1.000000</td>\n",
       "      <td>0.125256</td>\n",
       "      <td>0.178125</td>\n",
       "      <td>-0.115367</td>\n",
       "      <td>-0.048023</td>\n",
       "      <td>0.068526</td>\n",
       "      <td>0.194600</td>\n",
       "      <td>-0.122873</td>\n",
       "      <td>0.099248</td>\n",
       "      <td>0.062870</td>\n",
       "      <td>-0.146269</td>\n",
       "    </tr>\n",
       "    <tr>\n",
       "      <th>chol</th>\n",
       "      <td>0.207216</td>\n",
       "      <td>-0.195571</td>\n",
       "      <td>-0.072682</td>\n",
       "      <td>0.125256</td>\n",
       "      <td>1.000000</td>\n",
       "      <td>0.011428</td>\n",
       "      <td>-0.147602</td>\n",
       "      <td>-0.005308</td>\n",
       "      <td>0.064099</td>\n",
       "      <td>0.050086</td>\n",
       "      <td>0.000417</td>\n",
       "      <td>0.086878</td>\n",
       "      <td>0.096810</td>\n",
       "      <td>-0.081437</td>\n",
       "    </tr>\n",
       "    <tr>\n",
       "      <th>fbs</th>\n",
       "      <td>0.119492</td>\n",
       "      <td>0.046022</td>\n",
       "      <td>0.096018</td>\n",
       "      <td>0.178125</td>\n",
       "      <td>0.011428</td>\n",
       "      <td>1.000000</td>\n",
       "      <td>-0.083081</td>\n",
       "      <td>-0.007169</td>\n",
       "      <td>0.024729</td>\n",
       "      <td>0.004514</td>\n",
       "      <td>-0.058654</td>\n",
       "      <td>0.144935</td>\n",
       "      <td>-0.032752</td>\n",
       "      <td>-0.026826</td>\n",
       "    </tr>\n",
       "    <tr>\n",
       "      <th>restecg</th>\n",
       "      <td>-0.111590</td>\n",
       "      <td>-0.060351</td>\n",
       "      <td>0.041561</td>\n",
       "      <td>-0.115367</td>\n",
       "      <td>-0.147602</td>\n",
       "      <td>-0.083081</td>\n",
       "      <td>1.000000</td>\n",
       "      <td>0.041210</td>\n",
       "      <td>-0.068807</td>\n",
       "      <td>-0.056251</td>\n",
       "      <td>0.090402</td>\n",
       "      <td>-0.083112</td>\n",
       "      <td>-0.010473</td>\n",
       "      <td>0.134874</td>\n",
       "    </tr>\n",
       "    <tr>\n",
       "      <th>thalach</th>\n",
       "      <td>-0.395235</td>\n",
       "      <td>-0.046439</td>\n",
       "      <td>0.293367</td>\n",
       "      <td>-0.048023</td>\n",
       "      <td>-0.005308</td>\n",
       "      <td>-0.007169</td>\n",
       "      <td>0.041210</td>\n",
       "      <td>1.000000</td>\n",
       "      <td>-0.377411</td>\n",
       "      <td>-0.342201</td>\n",
       "      <td>0.384754</td>\n",
       "      <td>-0.228311</td>\n",
       "      <td>-0.094910</td>\n",
       "      <td>0.419955</td>\n",
       "    </tr>\n",
       "    <tr>\n",
       "      <th>exang</th>\n",
       "      <td>0.093216</td>\n",
       "      <td>0.143460</td>\n",
       "      <td>-0.392937</td>\n",
       "      <td>0.068526</td>\n",
       "      <td>0.064099</td>\n",
       "      <td>0.024729</td>\n",
       "      <td>-0.068807</td>\n",
       "      <td>-0.377411</td>\n",
       "      <td>1.000000</td>\n",
       "      <td>0.286766</td>\n",
       "      <td>-0.256106</td>\n",
       "      <td>0.125377</td>\n",
       "      <td>0.205826</td>\n",
       "      <td>-0.435601</td>\n",
       "    </tr>\n",
       "    <tr>\n",
       "      <th>oldpeak</th>\n",
       "      <td>0.206040</td>\n",
       "      <td>0.098322</td>\n",
       "      <td>-0.146692</td>\n",
       "      <td>0.194600</td>\n",
       "      <td>0.050086</td>\n",
       "      <td>0.004514</td>\n",
       "      <td>-0.056251</td>\n",
       "      <td>-0.342201</td>\n",
       "      <td>0.286766</td>\n",
       "      <td>1.000000</td>\n",
       "      <td>-0.576314</td>\n",
       "      <td>0.236560</td>\n",
       "      <td>0.209090</td>\n",
       "      <td>-0.429146</td>\n",
       "    </tr>\n",
       "    <tr>\n",
       "      <th>slope</th>\n",
       "      <td>-0.164124</td>\n",
       "      <td>-0.032990</td>\n",
       "      <td>0.116854</td>\n",
       "      <td>-0.122873</td>\n",
       "      <td>0.000417</td>\n",
       "      <td>-0.058654</td>\n",
       "      <td>0.090402</td>\n",
       "      <td>0.384754</td>\n",
       "      <td>-0.256106</td>\n",
       "      <td>-0.576314</td>\n",
       "      <td>1.000000</td>\n",
       "      <td>-0.092236</td>\n",
       "      <td>-0.103314</td>\n",
       "      <td>0.343940</td>\n",
       "    </tr>\n",
       "    <tr>\n",
       "      <th>ca</th>\n",
       "      <td>0.302261</td>\n",
       "      <td>0.113060</td>\n",
       "      <td>-0.195356</td>\n",
       "      <td>0.099248</td>\n",
       "      <td>0.086878</td>\n",
       "      <td>0.144935</td>\n",
       "      <td>-0.083112</td>\n",
       "      <td>-0.228311</td>\n",
       "      <td>0.125377</td>\n",
       "      <td>0.236560</td>\n",
       "      <td>-0.092236</td>\n",
       "      <td>1.000000</td>\n",
       "      <td>0.160085</td>\n",
       "      <td>-0.408992</td>\n",
       "    </tr>\n",
       "    <tr>\n",
       "      <th>thal</th>\n",
       "      <td>0.065317</td>\n",
       "      <td>0.211452</td>\n",
       "      <td>-0.160370</td>\n",
       "      <td>0.062870</td>\n",
       "      <td>0.096810</td>\n",
       "      <td>-0.032752</td>\n",
       "      <td>-0.010473</td>\n",
       "      <td>-0.094910</td>\n",
       "      <td>0.205826</td>\n",
       "      <td>0.209090</td>\n",
       "      <td>-0.103314</td>\n",
       "      <td>0.160085</td>\n",
       "      <td>1.000000</td>\n",
       "      <td>-0.343101</td>\n",
       "    </tr>\n",
       "    <tr>\n",
       "      <th>target</th>\n",
       "      <td>-0.221476</td>\n",
       "      <td>-0.283609</td>\n",
       "      <td>0.432080</td>\n",
       "      <td>-0.146269</td>\n",
       "      <td>-0.081437</td>\n",
       "      <td>-0.026826</td>\n",
       "      <td>0.134874</td>\n",
       "      <td>0.419955</td>\n",
       "      <td>-0.435601</td>\n",
       "      <td>-0.429146</td>\n",
       "      <td>0.343940</td>\n",
       "      <td>-0.408992</td>\n",
       "      <td>-0.343101</td>\n",
       "      <td>1.000000</td>\n",
       "    </tr>\n",
       "  </tbody>\n",
       "</table>\n",
       "</div>"
      ],
      "text/plain": [
       "               age       sex        cp  trestbps      chol       fbs  \\\n",
       "age       1.000000 -0.094962 -0.063107  0.283121  0.207216  0.119492   \n",
       "sex      -0.094962  1.000000 -0.051740 -0.057647 -0.195571  0.046022   \n",
       "cp       -0.063107 -0.051740  1.000000  0.046486 -0.072682  0.096018   \n",
       "trestbps  0.283121 -0.057647  0.046486  1.000000  0.125256  0.178125   \n",
       "chol      0.207216 -0.195571 -0.072682  0.125256  1.000000  0.011428   \n",
       "fbs       0.119492  0.046022  0.096018  0.178125  0.011428  1.000000   \n",
       "restecg  -0.111590 -0.060351  0.041561 -0.115367 -0.147602 -0.083081   \n",
       "thalach  -0.395235 -0.046439  0.293367 -0.048023 -0.005308 -0.007169   \n",
       "exang     0.093216  0.143460 -0.392937  0.068526  0.064099  0.024729   \n",
       "oldpeak   0.206040  0.098322 -0.146692  0.194600  0.050086  0.004514   \n",
       "slope    -0.164124 -0.032990  0.116854 -0.122873  0.000417 -0.058654   \n",
       "ca        0.302261  0.113060 -0.195356  0.099248  0.086878  0.144935   \n",
       "thal      0.065317  0.211452 -0.160370  0.062870  0.096810 -0.032752   \n",
       "target   -0.221476 -0.283609  0.432080 -0.146269 -0.081437 -0.026826   \n",
       "\n",
       "           restecg   thalach     exang   oldpeak     slope        ca  \\\n",
       "age      -0.111590 -0.395235  0.093216  0.206040 -0.164124  0.302261   \n",
       "sex      -0.060351 -0.046439  0.143460  0.098322 -0.032990  0.113060   \n",
       "cp        0.041561  0.293367 -0.392937 -0.146692  0.116854 -0.195356   \n",
       "trestbps -0.115367 -0.048023  0.068526  0.194600 -0.122873  0.099248   \n",
       "chol     -0.147602 -0.005308  0.064099  0.050086  0.000417  0.086878   \n",
       "fbs      -0.083081 -0.007169  0.024729  0.004514 -0.058654  0.144935   \n",
       "restecg   1.000000  0.041210 -0.068807 -0.056251  0.090402 -0.083112   \n",
       "thalach   0.041210  1.000000 -0.377411 -0.342201  0.384754 -0.228311   \n",
       "exang    -0.068807 -0.377411  1.000000  0.286766 -0.256106  0.125377   \n",
       "oldpeak  -0.056251 -0.342201  0.286766  1.000000 -0.576314  0.236560   \n",
       "slope     0.090402  0.384754 -0.256106 -0.576314  1.000000 -0.092236   \n",
       "ca       -0.083112 -0.228311  0.125377  0.236560 -0.092236  1.000000   \n",
       "thal     -0.010473 -0.094910  0.205826  0.209090 -0.103314  0.160085   \n",
       "target    0.134874  0.419955 -0.435601 -0.429146  0.343940 -0.408992   \n",
       "\n",
       "              thal    target  \n",
       "age       0.065317 -0.221476  \n",
       "sex       0.211452 -0.283609  \n",
       "cp       -0.160370  0.432080  \n",
       "trestbps  0.062870 -0.146269  \n",
       "chol      0.096810 -0.081437  \n",
       "fbs      -0.032752 -0.026826  \n",
       "restecg  -0.010473  0.134874  \n",
       "thalach  -0.094910  0.419955  \n",
       "exang     0.205826 -0.435601  \n",
       "oldpeak   0.209090 -0.429146  \n",
       "slope    -0.103314  0.343940  \n",
       "ca        0.160085 -0.408992  \n",
       "thal      1.000000 -0.343101  \n",
       "target   -0.343101  1.000000  "
      ]
     },
     "execution_count": 78,
     "metadata": {},
     "output_type": "execute_result"
    }
   ],
   "source": [
    "# Find the correlation between our independent variables\n",
    "corr_matrix = data.corr()\n",
    "corr_matrix "
   ]
  },
  {
   "cell_type": "code",
   "execution_count": 79,
   "id": "24e2578d",
   "metadata": {},
   "outputs": [
    {
     "data": {
      "image/png": "[encoded data removed]",
      "text/plain": [
       "<Figure size 1000x1000 with 2 Axes>"
      ]
     },
     "metadata": {},
     "output_type": "display_data"
    }
   ],
   "source": [
    "\n",
    "# get correlations of each features in dataset\n",
    "corrmat = data.corr()\n",
    "top_corr_features = corrmat.index\n",
    "fig, ax = plt.subplots(figsize=(10,10))\n",
    "# plot heat map\n",
    "sns.heatmap(data[top_corr_features].corr(),annot=True,cmap=\"Blues_r\", ax=ax)\n",
    "plt.show()"
   ]
  },
  {
   "cell_type": "code",
   "execution_count": 80,
   "id": "ed3aafbd",
   "metadata": {},
   "outputs": [
    {
     "data": {
      "text/plain": [
       "array([[<AxesSubplot: title={'center': 'age'}>,\n",
       "        <AxesSubplot: title={'center': 'sex'}>,\n",
       "        <AxesSubplot: title={'center': 'cp'}>,\n",
       "        <AxesSubplot: title={'center': 'trestbps'}>],\n",
       "       [<AxesSubplot: title={'center': 'chol'}>,\n",
       "        <AxesSubplot: title={'center': 'fbs'}>,\n",
       "        <AxesSubplot: title={'center': 'restecg'}>,\n",
       "        <AxesSubplot: title={'center': 'thalach'}>],\n",
       "       [<AxesSubplot: title={'center': 'exang'}>,\n",
       "        <AxesSubplot: title={'center': 'oldpeak'}>,\n",
       "        <AxesSubplot: title={'center': 'slope'}>,\n",
       "        <AxesSubplot: title={'center': 'ca'}>],\n",
       "       [<AxesSubplot: title={'center': 'thal'}>,\n",
       "        <AxesSubplot: title={'center': 'target'}>, <AxesSubplot: >,\n",
       "        <AxesSubplot: >]], dtype=object)"
      ]
     },
     "execution_count": 80,
     "metadata": {},
     "output_type": "execute_result"
    },
    {
     "data": {
      "image/png": "[encoded data removed]",
      "text/plain": [
       "<Figure size 640x480 with 16 Axes>"
      ]
     },
     "metadata": {},
     "output_type": "display_data"
    }
   ],
   "source": [
    "data.hist()"
   ]
  },
  {
   "cell_type": "code",
   "execution_count": 81,
   "id": "ce145eea",
   "metadata": {},
   "outputs": [],
   "source": [
    "# sns.set_theme(style=\"darkgrid\")\n",
    "\n",
    "# # Load an example dataset with long-form data\n",
    "# fmri = sns.load_dataset(\"fmri\")\n",
    "\n",
    "# # Plot the responses for different events and regions\n",
    "# sns.lineplot(x=\"timepoint\", y=\"signal\", hue=\"region\", style=\"event\", data=fmri)"
   ]
  },
  {
   "attachments": {},
   "cell_type": "markdown",
   "id": "8e0256cb",
   "metadata": {},
   "source": [
    "making crosstab"
   ]
  },
  {
   "cell_type": "code",
   "execution_count": 82,
   "id": "a71b20b8",
   "metadata": {},
   "outputs": [
    {
     "data": {
      "image/png": "[encoded data removed]",
      "text/plain": [
       "<Figure size 1000x600 with 1 Axes>"
      ]
     },
     "metadata": {},
     "output_type": "display_data"
    }
   ],
   "source": [
    "import pandas as pd\n",
    "pd.crosstab(data.target, data.sex).plot(kind=\"bar\", \n",
    "                                    figsize=(10,6), \n",
    "                                    color=[\"lightblue\", \"darkblue\"]);"
   ]
  },
  {
   "attachments": {},
   "cell_type": "markdown",
   "id": "3a782c74",
   "metadata": {},
   "source": [
    "Age vs Max Heart rate for Heart Disease"
   ]
  },
  {
   "cell_type": "code",
   "execution_count": 83,
   "id": "fc7b1a37",
   "metadata": {},
   "outputs": [
    {
     "data": {
      "image/png": "[encoded data removed]",
      "text/plain": [
       "<Figure size 1000x600 with 1 Axes>"
      ]
     },
     "metadata": {},
     "output_type": "display_data"
    }
   ],
   "source": [
    " ##Create another figure\n",
    "plt.figure(figsize=(10,6))\n",
    "\n",
    "# Start with positve examples\n",
    "plt.scatter(data.age[data.target==1], \n",
    "            data.thalach[data.target==1], \n",
    "            c=\"lightblue\") # define it as a scatter figure\n",
    "\n",
    "# Now for negative examples, we want them on the same plot, so we call plt again\n",
    "plt.scatter(data.age[data.target==0], \n",
    "            data.thalach[data.target==0], \n",
    "            c=\"darkblue\") # axis always come as (x, y)\n",
    "\n",
    "# Add some helpful info\n",
    "plt.title(\"Heart Disease in function of Age and Max Heart Rate\")\n",
    "plt.xlabel(\"Age\")\n",
    "plt.legend([\"Disease\", \"No Disease\"])\n",
    "plt.ylabel(\"Max Heart Rate\");"
   ]
  },
  {
   "attachments": {},
   "cell_type": "markdown",
   "id": "fa2cc6b0",
   "metadata": {},
   "source": [
    "Model Comparison"
   ]
  },
  {
   "cell_type": "code",
   "execution_count": 84,
   "id": "f4a00775",
   "metadata": {},
   "outputs": [
    {
     "data": {
      "text/plain": [
       "<AxesSubplot: xlabel='Models', ylabel='ACC'>"
      ]
     },
     "execution_count": 84,
     "metadata": {},
     "output_type": "execute_result"
    },
    {
     "data": {
      "image/png": "[encoded data removed]",
      "text/plain": [
       "<Figure size 640x480 with 1 Axes>"
      ]
     },
     "metadata": {},
     "output_type": "display_data"
    }
   ],
   "source": [
    "sns.barplot(x=final_data['Models'],y=final_data['ACC'])"
   ]
  },
  {
   "attachments": {},
   "cell_type": "markdown",
   "id": "dc074f95",
   "metadata": {},
   "source": [
    "for prediction on new data"
   ]
  },
  {
   "cell_type": "code",
   "execution_count": 85,
   "id": "23346993",
   "metadata": {},
   "outputs": [],
   "source": [
    "import pandas as pd"
   ]
  },
  {
   "cell_type": "code",
   "execution_count": 86,
   "id": "a1ff5b8e",
   "metadata": {},
   "outputs": [],
   "source": [
    "new_data = pd.DataFrame({\n",
    "    'age':52,\n",
    "    'sex':1,\n",
    "    'cp':0,\n",
    "    'trestbps':125,\n",
    "    'chol':212,\n",
    "    'fbs':0,\n",
    "    'restecg':1,\n",
    "    'thalach':168,\n",
    "    'exang':0,\n",
    "    'oldpeak':1.0,\n",
    "     'slope':2,\n",
    "    'ca':2,\n",
    "    'thal':3,    \n",
    "},index=[0])"
   ]
  },
  {
   "cell_type": "code",
   "execution_count": 87,
   "id": "a49cfe4a",
   "metadata": {},
   "outputs": [
    {
     "data": {
      "text/html": [
       "<div>\n",
       "<style scoped>\n",
       "    .dataframe tbody tr th:only-of-type {\n",
       "        vertical-align: middle;\n",
       "    }\n",
       "\n",
       "    .dataframe tbody tr th {\n",
       "        vertical-align: top;\n",
       "    }\n",
       "\n",
       "    .dataframe thead th {\n",
       "        text-align: right;\n",
       "    }\n",
       "</style>\n",
       "<table border=\"1\" class=\"dataframe\">\n",
       "  <thead>\n",
       "    <tr style=\"text-align: right;\">\n",
       "      <th></th>\n",
       "      <th>age</th>\n",
       "      <th>sex</th>\n",
       "      <th>cp</th>\n",
       "      <th>trestbps</th>\n",
       "      <th>chol</th>\n",
       "      <th>fbs</th>\n",
       "      <th>restecg</th>\n",
       "      <th>thalach</th>\n",
       "      <th>exang</th>\n",
       "      <th>oldpeak</th>\n",
       "      <th>slope</th>\n",
       "      <th>ca</th>\n",
       "      <th>thal</th>\n",
       "    </tr>\n",
       "  </thead>\n",
       "  <tbody>\n",
       "    <tr>\n",
       "      <th>0</th>\n",
       "      <td>52</td>\n",
       "      <td>1</td>\n",
       "      <td>0</td>\n",
       "      <td>125</td>\n",
       "      <td>212</td>\n",
       "      <td>0</td>\n",
       "      <td>1</td>\n",
       "      <td>168</td>\n",
       "      <td>0</td>\n",
       "      <td>1.0</td>\n",
       "      <td>2</td>\n",
       "      <td>2</td>\n",
       "      <td>3</td>\n",
       "    </tr>\n",
       "  </tbody>\n",
       "</table>\n",
       "</div>"
      ],
      "text/plain": [
       "   age  sex  cp  trestbps  chol  fbs  restecg  thalach  exang  oldpeak  slope  \\\n",
       "0   52    1   0       125   212    0        1      168      0      1.0      2   \n",
       "\n",
       "   ca  thal  \n",
       "0   2     3  "
      ]
     },
     "execution_count": 87,
     "metadata": {},
     "output_type": "execute_result"
    }
   ],
   "source": [
    "new_data"
   ]
  },
  {
   "cell_type": "code",
   "execution_count": 88,
   "id": "df03674d",
   "metadata": {},
   "outputs": [
    {
     "name": "stdout",
     "output_type": "stream",
     "text": [
      "No Disease\n"
     ]
    }
   ],
   "source": [
    "p = rf.predict(new_data)\n",
    "if p[0]==0:\n",
    "    print(\"No Disease\")\n",
    "else:\n",
    "    print(\"Have Disease\")"
   ]
  },
  {
   "cell_type": "markdown",
   "id": "296db480",
   "metadata": {},
   "source": [
    "saving model using joblib"
   ]
  },
  {
   "cell_type": "code",
   "execution_count": 89,
   "id": "31a48124",
   "metadata": {},
   "outputs": [],
   "source": [
    "import joblib"
   ]
  },
  {
   "cell_type": "code",
   "execution_count": 90,
   "id": "79e9ab19",
   "metadata": {},
   "outputs": [
    {
     "data": {
      "text/plain": [
       "['model_joblib_heart.pkl']"
      ]
     },
     "execution_count": 90,
     "metadata": {},
     "output_type": "execute_result"
    }
   ],
   "source": [
    "joblib.dump(rf,'model_joblib_heart.pkl')"
   ]
  },
  {
   "cell_type": "code",
   "execution_count": 91,
   "id": "4e83856d",
   "metadata": {},
   "outputs": [],
   "source": [
    "model = joblib.load('model_joblib_heart')\n"
   ]
  },
  {
   "cell_type": "code",
   "execution_count": 92,
   "id": "4c72f45c",
   "metadata": {},
   "outputs": [
    {
     "data": {
      "text/plain": [
       "array([0], dtype=int64)"
      ]
     },
     "execution_count": 92,
     "metadata": {},
     "output_type": "execute_result"
    }
   ],
   "source": [
    "model.predict(new_data)"
   ]
  },
  {
   "cell_type": "code",
   "execution_count": 93,
   "id": "1a154f9e",
   "metadata": {},
   "outputs": [
    {
     "data": {
      "text/html": [
       "<div>\n",
       "<style scoped>\n",
       "    .dataframe tbody tr th:only-of-type {\n",
       "        vertical-align: middle;\n",
       "    }\n",
       "\n",
       "    .dataframe tbody tr th {\n",
       "        vertical-align: top;\n",
       "    }\n",
       "\n",
       "    .dataframe thead th {\n",
       "        text-align: right;\n",
       "    }\n",
       "</style>\n",
       "<table border=\"1\" class=\"dataframe\">\n",
       "  <thead>\n",
       "    <tr style=\"text-align: right;\">\n",
       "      <th></th>\n",
       "      <th>age</th>\n",
       "      <th>sex</th>\n",
       "      <th>cp</th>\n",
       "      <th>trestbps</th>\n",
       "      <th>chol</th>\n",
       "      <th>fbs</th>\n",
       "      <th>restecg</th>\n",
       "      <th>thalach</th>\n",
       "      <th>exang</th>\n",
       "      <th>oldpeak</th>\n",
       "      <th>slope</th>\n",
       "      <th>ca</th>\n",
       "      <th>thal</th>\n",
       "      <th>target</th>\n",
       "    </tr>\n",
       "  </thead>\n",
       "  <tbody>\n",
       "    <tr>\n",
       "      <th>298</th>\n",
       "      <td>57</td>\n",
       "      <td>0</td>\n",
       "      <td>0</td>\n",
       "      <td>140</td>\n",
       "      <td>241</td>\n",
       "      <td>0</td>\n",
       "      <td>1</td>\n",
       "      <td>123</td>\n",
       "      <td>1</td>\n",
       "      <td>0.2</td>\n",
       "      <td>1</td>\n",
       "      <td>0</td>\n",
       "      <td>3</td>\n",
       "      <td>0</td>\n",
       "    </tr>\n",
       "    <tr>\n",
       "      <th>299</th>\n",
       "      <td>45</td>\n",
       "      <td>1</td>\n",
       "      <td>3</td>\n",
       "      <td>110</td>\n",
       "      <td>264</td>\n",
       "      <td>0</td>\n",
       "      <td>1</td>\n",
       "      <td>132</td>\n",
       "      <td>0</td>\n",
       "      <td>1.2</td>\n",
       "      <td>1</td>\n",
       "      <td>0</td>\n",
       "      <td>3</td>\n",
       "      <td>0</td>\n",
       "    </tr>\n",
       "    <tr>\n",
       "      <th>300</th>\n",
       "      <td>68</td>\n",
       "      <td>1</td>\n",
       "      <td>0</td>\n",
       "      <td>144</td>\n",
       "      <td>193</td>\n",
       "      <td>1</td>\n",
       "      <td>1</td>\n",
       "      <td>141</td>\n",
       "      <td>0</td>\n",
       "      <td>3.4</td>\n",
       "      <td>1</td>\n",
       "      <td>2</td>\n",
       "      <td>3</td>\n",
       "      <td>0</td>\n",
       "    </tr>\n",
       "    <tr>\n",
       "      <th>301</th>\n",
       "      <td>57</td>\n",
       "      <td>1</td>\n",
       "      <td>0</td>\n",
       "      <td>130</td>\n",
       "      <td>131</td>\n",
       "      <td>0</td>\n",
       "      <td>1</td>\n",
       "      <td>115</td>\n",
       "      <td>1</td>\n",
       "      <td>1.2</td>\n",
       "      <td>1</td>\n",
       "      <td>1</td>\n",
       "      <td>3</td>\n",
       "      <td>0</td>\n",
       "    </tr>\n",
       "    <tr>\n",
       "      <th>302</th>\n",
       "      <td>57</td>\n",
       "      <td>0</td>\n",
       "      <td>1</td>\n",
       "      <td>130</td>\n",
       "      <td>236</td>\n",
       "      <td>0</td>\n",
       "      <td>0</td>\n",
       "      <td>174</td>\n",
       "      <td>0</td>\n",
       "      <td>0.0</td>\n",
       "      <td>1</td>\n",
       "      <td>1</td>\n",
       "      <td>2</td>\n",
       "      <td>0</td>\n",
       "    </tr>\n",
       "  </tbody>\n",
       "</table>\n",
       "</div>"
      ],
      "text/plain": [
       "     age  sex  cp  trestbps  chol  fbs  restecg  thalach  exang  oldpeak  \\\n",
       "298   57    0   0       140   241    0        1      123      1      0.2   \n",
       "299   45    1   3       110   264    0        1      132      0      1.2   \n",
       "300   68    1   0       144   193    1        1      141      0      3.4   \n",
       "301   57    1   0       130   131    0        1      115      1      1.2   \n",
       "302   57    0   1       130   236    0        0      174      0      0.0   \n",
       "\n",
       "     slope  ca  thal  target  \n",
       "298      1   0     3       0  \n",
       "299      1   0     3       0  \n",
       "300      1   2     3       0  \n",
       "301      1   1     3       0  \n",
       "302      1   1     2       0  "
      ]
     },
     "execution_count": 93,
     "metadata": {},
     "output_type": "execute_result"
    }
   ],
   "source": [
    "data.tail()\n"
   ]
  },
  {
   "cell_type": "code",
   "execution_count": 94,
   "id": "d52eaca0",
   "metadata": {},
   "outputs": [],
   "source": [
    "import pickle\n",
    "pickle_out= open('Random_Forest_model.pkl','wb')\n",
    "pickle.dump(rf,pickle_out)\n",
    "pickle_out.close()"
   ]
  },
  {
   "attachments": {},
   "cell_type": "markdown",
   "id": "f0eff5b4",
   "metadata": {},
   "source": [
    "using graphical user interface GUI"
   ]
  },
  {
   "cell_type": "code",
   "execution_count": 95,
   "id": "ca86d654",
   "metadata": {},
   "outputs": [],
   "source": [
    "from tkinter import *\n",
    "import joblib"
   ]
  },
  {
   "cell_type": "code",
   "execution_count": 96,
   "id": "380407e8",
   "metadata": {},
   "outputs": [
    {
     "name": "stderr",
     "output_type": "stream",
     "text": [
      "Exception in Tkinter callback\n",
      "Traceback (most recent call last):\n",
      "  File \"c:\\Users\\ANSH GUPTA\\AppData\\Local\\Programs\\Python\\Python311\\Lib\\tkinter\\__init__.py\", line 1948, in __call__\n",
      "    return self.func(*args)\n",
      "           ^^^^^^^^^^^^^^^^\n",
      "  File \"C:\\Users\\ANSH GUPTA\\AppData\\Local\\Temp\\ipykernel_16048\\1049222250.py\", line 6, in show_entry_fields\n",
      "    p1=int(e1.get())\n",
      "       ^^^^^^^^^^^^^\n",
      "ValueError: invalid literal for int() with base 10: ''\n"
     ]
    }
   ],
   "source": [
    "from tkinter import *\n",
    "import joblib\n",
    "import numpy as np\n",
    "from sklearn import *\n",
    "def show_entry_fields():\n",
    "    p1=int(e1.get())\n",
    "    p2=int(e2.get())\n",
    "    p3=int(e3.get())\n",
    "    p4=int(e4.get())\n",
    "    p5=int(e5.get())\n",
    "    p6=int(e6.get())\n",
    "    p7=int(e7.get())\n",
    "    p8=int(e8.get())\n",
    "    p9=int(e9.get())\n",
    "    p10=float(e10.get())\n",
    "    p11=int(e11.get())\n",
    "    p12=int(e12.get())\n",
    "    p13=int(e13.get())\n",
    "    model = joblib.load('model_joblib_heart')\n",
    "    result=model.predict([[p1,p2,p3,p4,p5,p6,p7,p8,p8,p10,p11,p12,p13]])\n",
    "    \n",
    "    if result == 0:\n",
    "        Label(master, text=\"No Heart Disease\").grid(row=31)\n",
    "    else:\n",
    "        Label(master, text=\"Possibility of Heart Disease\").grid(row=31)\n",
    "    \n",
    "    \n",
    "master = Tk()\n",
    "master.title(\"Heart Disease Prediction System\")\n",
    "\n",
    "\n",
    "label = Label(master, text = \"Heart Disease Prediction System\"\n",
    "                          , bg = \"black\", fg = \"white\"). \\\n",
    "                               grid(row=0,columnspan=2)\n",
    "\n",
    "\n",
    "Label(master, text=\"Enter Your Age\").grid(row=1)\n",
    "Label(master, text=\"Male Or Female [1/0]\").grid(row=2)\n",
    "Label(master, text=\"Enter Value of CP\").grid(row=3)\n",
    "Label(master, text=\"Enter Value of trestbps\").grid(row=4)\n",
    "Label(master, text=\"Enter Value of chol\").grid(row=5)\n",
    "Label(master, text=\"Enter Value of fbs\").grid(row=6)\n",
    "Label(master, text=\"Enter Value of restecg\").grid(row=7)\n",
    "Label(master, text=\"Enter Value of thalach\").grid(row=8)\n",
    "Label(master, text=\"Enter Value of exang\").grid(row=9)\n",
    "Label(master, text=\"Enter Value of oldpeak\").grid(row=10)\n",
    "Label(master, text=\"Enter Value of slope\").grid(row=11)\n",
    "Label(master, text=\"Enter Value of ca\").grid(row=12)\n",
    "Label(master, text=\"Enter Value of thal\").grid(row=13)\n",
    "\n",
    "\n",
    "\n",
    "e1 = Entry(master)\n",
    "e2 = Entry(master)\n",
    "e3 = Entry(master)\n",
    "e4 = Entry(master)\n",
    "e5 = Entry(master)\n",
    "e6 = Entry(master)\n",
    "e7 = Entry(master)\n",
    "e8 = Entry(master)\n",
    "e9 = Entry(master)\n",
    "e10 = Entry(master)\n",
    "e11 = Entry(master)\n",
    "e12 = Entry(master)\n",
    "e13 = Entry(master)\n",
    "\n",
    "e1.grid(row=1, column=1)\n",
    "e2.grid(row=2, column=1)\n",
    "e3.grid(row=3, column=1)\n",
    "e4.grid(row=4, column=1)\n",
    "e5.grid(row=5, column=1)\n",
    "e6.grid(row=6, column=1)\n",
    "e7.grid(row=7, column=1)\n",
    "e8.grid(row=8, column=1)\n",
    "e9.grid(row=9, column=1)\n",
    "e10.grid(row=10, column=1)\n",
    "e11.grid(row=11, column=1)\n",
    "e12.grid(row=12, column=1)\n",
    "e13.grid(row=13, column=1)\n",
    "\n",
    "\n",
    "\n",
    "Button(master, text='Predict', command=show_entry_fields).grid()\n",
    "\n",
    "mainloop()"
   ]
  },
  {
   "cell_type": "code",
   "execution_count": null,
   "id": "cdbe4264",
   "metadata": {},
   "outputs": [],
   "source": []
  }
 ],
 "metadata": {
  "kernelspec": {
   "display_name": "Python 3 (ipykernel)",
   "language": "python",
   "name": "python3"
  },
  "language_info": {
   "codemirror_mode": {
    "name": "ipython",
    "version": 3
   },
   "file_extension": ".py",
   "mimetype": "text/x-python",
   "name": "python",
   "nbconvert_exporter": "python",
   "pygments_lexer": "ipython3",
   "version": "3.11.2"
  }
 },
 "nbformat": 4,
 "nbformat_minor": 5
}
